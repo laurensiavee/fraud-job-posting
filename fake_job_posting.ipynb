{
 "cells": [
  {
   "cell_type": "markdown",
   "metadata": {},
   "source": [
    "# FRAUD DETECTION: FAKE JOB POSTING\n",
    "## Fraud Detection to detect Fraudulent Act/Fake Posting on Job Posting Platform."
   ]
  },
  {
   "cell_type": "markdown",
   "metadata": {},
   "source": [
    "## About the project\n",
    "\n",
    "### Fraudulent activity is a dishonest, untrue, false representation or providing a false statement, whether it was intentional or not. On daily life, we can see act of fraudulent anywhere, event in only small cases.\n",
    "\n",
    "### Job Posting nowdays can be found anywhere, including internet. But there's some cases of Job Posting Fraud that can be found. Due to large amount of job post, it was a hard job to find fraud posting manually. By making a Fraud Detection with Machine Learning, we can handle this problem in fast and easy way."
   ]
  },
  {
   "cell_type": "markdown",
   "metadata": {},
   "source": [
    "### Objective:\n",
    "\n",
    "Exploring and Analyze data and try to answer some question such as:\n",
    "- Was the dataset's target (fraudulent vs real) skewed?\n",
    "- What feature/column show high correlation to fake job posting?\n",
    "\n",
    "Preprocessing:\n",
    "- Extracting text data (cleaning, vectorize)\n",
    "\n",
    "Model Building and Metric:\n",
    "- What's the highest accuracy we can get?\n",
    "- What model predict the best?"
   ]
  },
  {
   "cell_type": "markdown",
   "metadata": {},
   "source": [
    "## TABLE OF CONTENT\n",
    "- THE DATASET\n",
    "- DATA CLEANING\n",
    "- EXPLORATORY DATA ANALYSIS\n",
    "- PREPROCESSING\n",
    "- TRAIN-TEST SPLIT\n",
    "- MODEL BUILDING\n",
    "- MODEL COMPARISION"
   ]
  },
  {
   "cell_type": "code",
   "execution_count": 1,
   "metadata": {},
   "outputs": [],
   "source": [
    "# library\n",
    "import numpy as np \n",
    "import pandas as pd \n",
    "import seaborn as sns\n",
    "import matplotlib.pyplot as plt\n",
    "import warnings\n",
    "warnings.filterwarnings('ignore')"
   ]
  },
  {
   "cell_type": "markdown",
   "metadata": {},
   "source": [
    "# THE DATASET\n",
    "\n",
    "Dataset sourced from kaggle, uploaded by Shivam Bansal: https://www.kaggle.com/shivamb/real-or-fake-fake-jobposting-prediction \n",
    "\n",
    "The dataset contain 18 columns and data of 18k job description with only 800 fake job posting."
   ]
  },
  {
   "cell_type": "code",
   "execution_count": 2,
   "metadata": {},
   "outputs": [
    {
     "data": {
      "text/html": [
       "<div>\n",
       "<style scoped>\n",
       "    .dataframe tbody tr th:only-of-type {\n",
       "        vertical-align: middle;\n",
       "    }\n",
       "\n",
       "    .dataframe tbody tr th {\n",
       "        vertical-align: top;\n",
       "    }\n",
       "\n",
       "    .dataframe thead th {\n",
       "        text-align: right;\n",
       "    }\n",
       "</style>\n",
       "<table border=\"1\" class=\"dataframe\">\n",
       "  <thead>\n",
       "    <tr style=\"text-align: right;\">\n",
       "      <th></th>\n",
       "      <th>job_id</th>\n",
       "      <th>title</th>\n",
       "      <th>location</th>\n",
       "      <th>department</th>\n",
       "      <th>salary_range</th>\n",
       "      <th>company_profile</th>\n",
       "      <th>description</th>\n",
       "      <th>requirements</th>\n",
       "      <th>benefits</th>\n",
       "      <th>telecommuting</th>\n",
       "      <th>has_company_logo</th>\n",
       "      <th>has_questions</th>\n",
       "      <th>employment_type</th>\n",
       "      <th>required_experience</th>\n",
       "      <th>required_education</th>\n",
       "      <th>industry</th>\n",
       "      <th>function</th>\n",
       "      <th>fraudulent</th>\n",
       "    </tr>\n",
       "  </thead>\n",
       "  <tbody>\n",
       "    <tr>\n",
       "      <th>0</th>\n",
       "      <td>1</td>\n",
       "      <td>Marketing Intern</td>\n",
       "      <td>US, NY, New York</td>\n",
       "      <td>Marketing</td>\n",
       "      <td>NaN</td>\n",
       "      <td>We're Food52, and we've created a groundbreaki...</td>\n",
       "      <td>Food52, a fast-growing, James Beard Award-winn...</td>\n",
       "      <td>Experience with content management systems a m...</td>\n",
       "      <td>NaN</td>\n",
       "      <td>0</td>\n",
       "      <td>1</td>\n",
       "      <td>0</td>\n",
       "      <td>Other</td>\n",
       "      <td>Internship</td>\n",
       "      <td>NaN</td>\n",
       "      <td>NaN</td>\n",
       "      <td>Marketing</td>\n",
       "      <td>0</td>\n",
       "    </tr>\n",
       "    <tr>\n",
       "      <th>1</th>\n",
       "      <td>2</td>\n",
       "      <td>Customer Service - Cloud Video Production</td>\n",
       "      <td>NZ, , Auckland</td>\n",
       "      <td>Success</td>\n",
       "      <td>NaN</td>\n",
       "      <td>90 Seconds, the worlds Cloud Video Production ...</td>\n",
       "      <td>Organised - Focused - Vibrant - Awesome!Do you...</td>\n",
       "      <td>What we expect from you:Your key responsibilit...</td>\n",
       "      <td>What you will get from usThrough being part of...</td>\n",
       "      <td>0</td>\n",
       "      <td>1</td>\n",
       "      <td>0</td>\n",
       "      <td>Full-time</td>\n",
       "      <td>Not Applicable</td>\n",
       "      <td>NaN</td>\n",
       "      <td>Marketing and Advertising</td>\n",
       "      <td>Customer Service</td>\n",
       "      <td>0</td>\n",
       "    </tr>\n",
       "    <tr>\n",
       "      <th>2</th>\n",
       "      <td>3</td>\n",
       "      <td>Commissioning Machinery Assistant (CMA)</td>\n",
       "      <td>US, IA, Wever</td>\n",
       "      <td>NaN</td>\n",
       "      <td>NaN</td>\n",
       "      <td>Valor Services provides Workforce Solutions th...</td>\n",
       "      <td>Our client, located in Houston, is actively se...</td>\n",
       "      <td>Implement pre-commissioning and commissioning ...</td>\n",
       "      <td>NaN</td>\n",
       "      <td>0</td>\n",
       "      <td>1</td>\n",
       "      <td>0</td>\n",
       "      <td>NaN</td>\n",
       "      <td>NaN</td>\n",
       "      <td>NaN</td>\n",
       "      <td>NaN</td>\n",
       "      <td>NaN</td>\n",
       "      <td>0</td>\n",
       "    </tr>\n",
       "    <tr>\n",
       "      <th>3</th>\n",
       "      <td>4</td>\n",
       "      <td>Account Executive - Washington DC</td>\n",
       "      <td>US, DC, Washington</td>\n",
       "      <td>Sales</td>\n",
       "      <td>NaN</td>\n",
       "      <td>Our passion for improving quality of life thro...</td>\n",
       "      <td>THE COMPANY: ESRI – Environmental Systems Rese...</td>\n",
       "      <td>EDUCATION: Bachelor’s or Master’s in GIS, busi...</td>\n",
       "      <td>Our culture is anything but corporate—we have ...</td>\n",
       "      <td>0</td>\n",
       "      <td>1</td>\n",
       "      <td>0</td>\n",
       "      <td>Full-time</td>\n",
       "      <td>Mid-Senior level</td>\n",
       "      <td>Bachelor's Degree</td>\n",
       "      <td>Computer Software</td>\n",
       "      <td>Sales</td>\n",
       "      <td>0</td>\n",
       "    </tr>\n",
       "    <tr>\n",
       "      <th>4</th>\n",
       "      <td>5</td>\n",
       "      <td>Bill Review Manager</td>\n",
       "      <td>US, FL, Fort Worth</td>\n",
       "      <td>NaN</td>\n",
       "      <td>NaN</td>\n",
       "      <td>SpotSource Solutions LLC is a Global Human Cap...</td>\n",
       "      <td>JOB TITLE: Itemization Review ManagerLOCATION:...</td>\n",
       "      <td>QUALIFICATIONS:RN license in the State of Texa...</td>\n",
       "      <td>Full Benefits Offered</td>\n",
       "      <td>0</td>\n",
       "      <td>1</td>\n",
       "      <td>1</td>\n",
       "      <td>Full-time</td>\n",
       "      <td>Mid-Senior level</td>\n",
       "      <td>Bachelor's Degree</td>\n",
       "      <td>Hospital &amp; Health Care</td>\n",
       "      <td>Health Care Provider</td>\n",
       "      <td>0</td>\n",
       "    </tr>\n",
       "  </tbody>\n",
       "</table>\n",
       "</div>"
      ],
      "text/plain": [
       "   job_id                                      title            location  \\\n",
       "0       1                           Marketing Intern    US, NY, New York   \n",
       "1       2  Customer Service - Cloud Video Production      NZ, , Auckland   \n",
       "2       3    Commissioning Machinery Assistant (CMA)       US, IA, Wever   \n",
       "3       4          Account Executive - Washington DC  US, DC, Washington   \n",
       "4       5                        Bill Review Manager  US, FL, Fort Worth   \n",
       "\n",
       "  department salary_range                                    company_profile  \\\n",
       "0  Marketing          NaN  We're Food52, and we've created a groundbreaki...   \n",
       "1    Success          NaN  90 Seconds, the worlds Cloud Video Production ...   \n",
       "2        NaN          NaN  Valor Services provides Workforce Solutions th...   \n",
       "3      Sales          NaN  Our passion for improving quality of life thro...   \n",
       "4        NaN          NaN  SpotSource Solutions LLC is a Global Human Cap...   \n",
       "\n",
       "                                         description  \\\n",
       "0  Food52, a fast-growing, James Beard Award-winn...   \n",
       "1  Organised - Focused - Vibrant - Awesome!Do you...   \n",
       "2  Our client, located in Houston, is actively se...   \n",
       "3  THE COMPANY: ESRI – Environmental Systems Rese...   \n",
       "4  JOB TITLE: Itemization Review ManagerLOCATION:...   \n",
       "\n",
       "                                        requirements  \\\n",
       "0  Experience with content management systems a m...   \n",
       "1  What we expect from you:Your key responsibilit...   \n",
       "2  Implement pre-commissioning and commissioning ...   \n",
       "3  EDUCATION: Bachelor’s or Master’s in GIS, busi...   \n",
       "4  QUALIFICATIONS:RN license in the State of Texa...   \n",
       "\n",
       "                                            benefits  telecommuting  \\\n",
       "0                                                NaN              0   \n",
       "1  What you will get from usThrough being part of...              0   \n",
       "2                                                NaN              0   \n",
       "3  Our culture is anything but corporate—we have ...              0   \n",
       "4                              Full Benefits Offered              0   \n",
       "\n",
       "   has_company_logo  has_questions employment_type required_experience  \\\n",
       "0                 1              0           Other          Internship   \n",
       "1                 1              0       Full-time      Not Applicable   \n",
       "2                 1              0             NaN                 NaN   \n",
       "3                 1              0       Full-time    Mid-Senior level   \n",
       "4                 1              1       Full-time    Mid-Senior level   \n",
       "\n",
       "  required_education                   industry              function  \\\n",
       "0                NaN                        NaN             Marketing   \n",
       "1                NaN  Marketing and Advertising      Customer Service   \n",
       "2                NaN                        NaN                   NaN   \n",
       "3  Bachelor's Degree          Computer Software                 Sales   \n",
       "4  Bachelor's Degree     Hospital & Health Care  Health Care Provider   \n",
       "\n",
       "   fraudulent  \n",
       "0           0  \n",
       "1           0  \n",
       "2           0  \n",
       "3           0  \n",
       "4           0  "
      ]
     },
     "execution_count": 2,
     "metadata": {},
     "output_type": "execute_result"
    }
   ],
   "source": [
    "# load data\n",
    "df = pd.read_csv('dataset/fake_job_postings.csv')\n",
    "df.head()"
   ]
  },
  {
   "cell_type": "code",
   "execution_count": 3,
   "metadata": {},
   "outputs": [
    {
     "name": "stdout",
     "output_type": "stream",
     "text": [
      "<class 'pandas.core.frame.DataFrame'>\n",
      "RangeIndex: 17880 entries, 0 to 17879\n",
      "Data columns (total 18 columns):\n",
      " #   Column               Non-Null Count  Dtype \n",
      "---  ------               --------------  ----- \n",
      " 0   job_id               17880 non-null  int64 \n",
      " 1   title                17880 non-null  object\n",
      " 2   location             17534 non-null  object\n",
      " 3   department           6333 non-null   object\n",
      " 4   salary_range         2868 non-null   object\n",
      " 5   company_profile      14572 non-null  object\n",
      " 6   description          17879 non-null  object\n",
      " 7   requirements         15185 non-null  object\n",
      " 8   benefits             10670 non-null  object\n",
      " 9   telecommuting        17880 non-null  int64 \n",
      " 10  has_company_logo     17880 non-null  int64 \n",
      " 11  has_questions        17880 non-null  int64 \n",
      " 12  employment_type      14409 non-null  object\n",
      " 13  required_experience  10830 non-null  object\n",
      " 14  required_education   9775 non-null   object\n",
      " 15  industry             12977 non-null  object\n",
      " 16  function             11425 non-null  object\n",
      " 17  fraudulent           17880 non-null  int64 \n",
      "dtypes: int64(5), object(13)\n",
      "memory usage: 2.5+ MB\n"
     ]
    }
   ],
   "source": [
    "df.info()"
   ]
  },
  {
   "cell_type": "markdown",
   "metadata": {},
   "source": [
    "for data cleaning, preprocessing, and EDA, we will divide features to:\n",
    "numerical, categorical, and text features."
   ]
  },
  {
   "cell_type": "code",
   "execution_count": 4,
   "metadata": {},
   "outputs": [],
   "source": [
    "#numerical features:\n",
    "numerical_feat = ['salary_range']\n",
    "\n",
    "#categorical features:\n",
    "categorical_feat = ['fraudulent', 'telecommuting', 'has_company_logo', 'has_questions', 'employment_type', 'required_experience', 'required_education','industry', 'function']\n",
    "\n",
    "#text features:\n",
    "text_feat = ['title', 'location', 'department', 'company_profile', 'description' , 'requirements', 'benefits']"
   ]
  },
  {
   "cell_type": "markdown",
   "metadata": {},
   "source": [
    "# DATA CLEANING"
   ]
  },
  {
   "cell_type": "code",
   "execution_count": 5,
   "metadata": {},
   "outputs": [
    {
     "data": {
      "text/html": [
       "<div>\n",
       "<style scoped>\n",
       "    .dataframe tbody tr th:only-of-type {\n",
       "        vertical-align: middle;\n",
       "    }\n",
       "\n",
       "    .dataframe tbody tr th {\n",
       "        vertical-align: top;\n",
       "    }\n",
       "\n",
       "    .dataframe thead th {\n",
       "        text-align: right;\n",
       "    }\n",
       "</style>\n",
       "<table border=\"1\" class=\"dataframe\">\n",
       "  <thead>\n",
       "    <tr style=\"text-align: right;\">\n",
       "      <th></th>\n",
       "      <th>job_id</th>\n",
       "      <th>title</th>\n",
       "      <th>location</th>\n",
       "      <th>department</th>\n",
       "      <th>salary_range</th>\n",
       "      <th>company_profile</th>\n",
       "      <th>description</th>\n",
       "      <th>requirements</th>\n",
       "      <th>benefits</th>\n",
       "      <th>telecommuting</th>\n",
       "      <th>has_company_logo</th>\n",
       "      <th>has_questions</th>\n",
       "      <th>employment_type</th>\n",
       "      <th>required_experience</th>\n",
       "      <th>required_education</th>\n",
       "      <th>industry</th>\n",
       "      <th>function</th>\n",
       "      <th>fraudulent</th>\n",
       "    </tr>\n",
       "  </thead>\n",
       "  <tbody>\n",
       "    <tr>\n",
       "      <th>0</th>\n",
       "      <td>1</td>\n",
       "      <td>Marketing Intern</td>\n",
       "      <td>US, NY, New York</td>\n",
       "      <td>Marketing</td>\n",
       "      <td>NaN</td>\n",
       "      <td>We're Food52, and we've created a groundbreaki...</td>\n",
       "      <td>Food52, a fast-growing, James Beard Award-winn...</td>\n",
       "      <td>Experience with content management systems a m...</td>\n",
       "      <td>NaN</td>\n",
       "      <td>0</td>\n",
       "      <td>1</td>\n",
       "      <td>0</td>\n",
       "      <td>Other</td>\n",
       "      <td>Internship</td>\n",
       "      <td>NaN</td>\n",
       "      <td>NaN</td>\n",
       "      <td>Marketing</td>\n",
       "      <td>0</td>\n",
       "    </tr>\n",
       "    <tr>\n",
       "      <th>1</th>\n",
       "      <td>2</td>\n",
       "      <td>Customer Service - Cloud Video Production</td>\n",
       "      <td>NZ, , Auckland</td>\n",
       "      <td>Success</td>\n",
       "      <td>NaN</td>\n",
       "      <td>90 Seconds, the worlds Cloud Video Production ...</td>\n",
       "      <td>Organised - Focused - Vibrant - Awesome!Do you...</td>\n",
       "      <td>What we expect from you:Your key responsibilit...</td>\n",
       "      <td>What you will get from usThrough being part of...</td>\n",
       "      <td>0</td>\n",
       "      <td>1</td>\n",
       "      <td>0</td>\n",
       "      <td>Full-time</td>\n",
       "      <td>Not Applicable</td>\n",
       "      <td>NaN</td>\n",
       "      <td>Marketing and Advertising</td>\n",
       "      <td>Customer Service</td>\n",
       "      <td>0</td>\n",
       "    </tr>\n",
       "    <tr>\n",
       "      <th>2</th>\n",
       "      <td>3</td>\n",
       "      <td>Commissioning Machinery Assistant (CMA)</td>\n",
       "      <td>US, IA, Wever</td>\n",
       "      <td>NaN</td>\n",
       "      <td>NaN</td>\n",
       "      <td>Valor Services provides Workforce Solutions th...</td>\n",
       "      <td>Our client, located in Houston, is actively se...</td>\n",
       "      <td>Implement pre-commissioning and commissioning ...</td>\n",
       "      <td>NaN</td>\n",
       "      <td>0</td>\n",
       "      <td>1</td>\n",
       "      <td>0</td>\n",
       "      <td>NaN</td>\n",
       "      <td>NaN</td>\n",
       "      <td>NaN</td>\n",
       "      <td>NaN</td>\n",
       "      <td>NaN</td>\n",
       "      <td>0</td>\n",
       "    </tr>\n",
       "    <tr>\n",
       "      <th>3</th>\n",
       "      <td>4</td>\n",
       "      <td>Account Executive - Washington DC</td>\n",
       "      <td>US, DC, Washington</td>\n",
       "      <td>Sales</td>\n",
       "      <td>NaN</td>\n",
       "      <td>Our passion for improving quality of life thro...</td>\n",
       "      <td>THE COMPANY: ESRI – Environmental Systems Rese...</td>\n",
       "      <td>EDUCATION: Bachelor’s or Master’s in GIS, busi...</td>\n",
       "      <td>Our culture is anything but corporate—we have ...</td>\n",
       "      <td>0</td>\n",
       "      <td>1</td>\n",
       "      <td>0</td>\n",
       "      <td>Full-time</td>\n",
       "      <td>Mid-Senior level</td>\n",
       "      <td>Bachelor's Degree</td>\n",
       "      <td>Computer Software</td>\n",
       "      <td>Sales</td>\n",
       "      <td>0</td>\n",
       "    </tr>\n",
       "    <tr>\n",
       "      <th>4</th>\n",
       "      <td>5</td>\n",
       "      <td>Bill Review Manager</td>\n",
       "      <td>US, FL, Fort Worth</td>\n",
       "      <td>NaN</td>\n",
       "      <td>NaN</td>\n",
       "      <td>SpotSource Solutions LLC is a Global Human Cap...</td>\n",
       "      <td>JOB TITLE: Itemization Review ManagerLOCATION:...</td>\n",
       "      <td>QUALIFICATIONS:RN license in the State of Texa...</td>\n",
       "      <td>Full Benefits Offered</td>\n",
       "      <td>0</td>\n",
       "      <td>1</td>\n",
       "      <td>1</td>\n",
       "      <td>Full-time</td>\n",
       "      <td>Mid-Senior level</td>\n",
       "      <td>Bachelor's Degree</td>\n",
       "      <td>Hospital &amp; Health Care</td>\n",
       "      <td>Health Care Provider</td>\n",
       "      <td>0</td>\n",
       "    </tr>\n",
       "    <tr>\n",
       "      <th>...</th>\n",
       "      <td>...</td>\n",
       "      <td>...</td>\n",
       "      <td>...</td>\n",
       "      <td>...</td>\n",
       "      <td>...</td>\n",
       "      <td>...</td>\n",
       "      <td>...</td>\n",
       "      <td>...</td>\n",
       "      <td>...</td>\n",
       "      <td>...</td>\n",
       "      <td>...</td>\n",
       "      <td>...</td>\n",
       "      <td>...</td>\n",
       "      <td>...</td>\n",
       "      <td>...</td>\n",
       "      <td>...</td>\n",
       "      <td>...</td>\n",
       "      <td>...</td>\n",
       "    </tr>\n",
       "    <tr>\n",
       "      <th>17875</th>\n",
       "      <td>17876</td>\n",
       "      <td>Account Director - Distribution</td>\n",
       "      <td>CA, ON, Toronto</td>\n",
       "      <td>Sales</td>\n",
       "      <td>NaN</td>\n",
       "      <td>Vend is looking for some awesome new talent to...</td>\n",
       "      <td>Just in case this is the first time you’ve vis...</td>\n",
       "      <td>To ace this role you:Will eat comprehensive St...</td>\n",
       "      <td>What can you expect from us?We have an open cu...</td>\n",
       "      <td>0</td>\n",
       "      <td>1</td>\n",
       "      <td>1</td>\n",
       "      <td>Full-time</td>\n",
       "      <td>Mid-Senior level</td>\n",
       "      <td>NaN</td>\n",
       "      <td>Computer Software</td>\n",
       "      <td>Sales</td>\n",
       "      <td>0</td>\n",
       "    </tr>\n",
       "    <tr>\n",
       "      <th>17876</th>\n",
       "      <td>17877</td>\n",
       "      <td>Payroll Accountant</td>\n",
       "      <td>US, PA, Philadelphia</td>\n",
       "      <td>Accounting</td>\n",
       "      <td>NaN</td>\n",
       "      <td>WebLinc is the e-commerce platform and service...</td>\n",
       "      <td>The Payroll Accountant will focus primarily on...</td>\n",
       "      <td>- B.A. or B.S. in Accounting- Desire to have f...</td>\n",
       "      <td>Health &amp;amp; WellnessMedical planPrescription ...</td>\n",
       "      <td>0</td>\n",
       "      <td>1</td>\n",
       "      <td>1</td>\n",
       "      <td>Full-time</td>\n",
       "      <td>Mid-Senior level</td>\n",
       "      <td>Bachelor's Degree</td>\n",
       "      <td>Internet</td>\n",
       "      <td>Accounting/Auditing</td>\n",
       "      <td>0</td>\n",
       "    </tr>\n",
       "    <tr>\n",
       "      <th>17877</th>\n",
       "      <td>17878</td>\n",
       "      <td>Project Cost Control Staff Engineer - Cost Con...</td>\n",
       "      <td>US, TX, Houston</td>\n",
       "      <td>NaN</td>\n",
       "      <td>NaN</td>\n",
       "      <td>We Provide Full Time Permanent Positions for m...</td>\n",
       "      <td>Experienced Project Cost Control Staff Enginee...</td>\n",
       "      <td>At least 12 years professional experience.Abil...</td>\n",
       "      <td>NaN</td>\n",
       "      <td>0</td>\n",
       "      <td>0</td>\n",
       "      <td>0</td>\n",
       "      <td>Full-time</td>\n",
       "      <td>NaN</td>\n",
       "      <td>NaN</td>\n",
       "      <td>NaN</td>\n",
       "      <td>NaN</td>\n",
       "      <td>0</td>\n",
       "    </tr>\n",
       "    <tr>\n",
       "      <th>17878</th>\n",
       "      <td>17879</td>\n",
       "      <td>Graphic Designer</td>\n",
       "      <td>NG, LA, Lagos</td>\n",
       "      <td>NaN</td>\n",
       "      <td>NaN</td>\n",
       "      <td>NaN</td>\n",
       "      <td>Nemsia Studios is looking for an experienced v...</td>\n",
       "      <td>1. Must be fluent in the latest versions of Co...</td>\n",
       "      <td>Competitive salary (compensation will be based...</td>\n",
       "      <td>0</td>\n",
       "      <td>0</td>\n",
       "      <td>1</td>\n",
       "      <td>Contract</td>\n",
       "      <td>Not Applicable</td>\n",
       "      <td>Professional</td>\n",
       "      <td>Graphic Design</td>\n",
       "      <td>Design</td>\n",
       "      <td>0</td>\n",
       "    </tr>\n",
       "    <tr>\n",
       "      <th>17879</th>\n",
       "      <td>17880</td>\n",
       "      <td>Web Application Developers</td>\n",
       "      <td>NZ, N, Wellington</td>\n",
       "      <td>Engineering</td>\n",
       "      <td>NaN</td>\n",
       "      <td>Vend is looking for some awesome new talent to...</td>\n",
       "      <td>Who are we?Vend is an award winning web based ...</td>\n",
       "      <td>We want to hear from you if:You have an in-dep...</td>\n",
       "      <td>NaN</td>\n",
       "      <td>0</td>\n",
       "      <td>1</td>\n",
       "      <td>1</td>\n",
       "      <td>Full-time</td>\n",
       "      <td>Mid-Senior level</td>\n",
       "      <td>NaN</td>\n",
       "      <td>Computer Software</td>\n",
       "      <td>Engineering</td>\n",
       "      <td>0</td>\n",
       "    </tr>\n",
       "  </tbody>\n",
       "</table>\n",
       "<p>17880 rows × 18 columns</p>\n",
       "</div>"
      ],
      "text/plain": [
       "       job_id                                              title  \\\n",
       "0           1                                   Marketing Intern   \n",
       "1           2          Customer Service - Cloud Video Production   \n",
       "2           3            Commissioning Machinery Assistant (CMA)   \n",
       "3           4                  Account Executive - Washington DC   \n",
       "4           5                                Bill Review Manager   \n",
       "...       ...                                                ...   \n",
       "17875   17876                   Account Director - Distribution    \n",
       "17876   17877                                 Payroll Accountant   \n",
       "17877   17878  Project Cost Control Staff Engineer - Cost Con...   \n",
       "17878   17879                                   Graphic Designer   \n",
       "17879   17880                         Web Application Developers   \n",
       "\n",
       "                   location   department salary_range  \\\n",
       "0          US, NY, New York    Marketing          NaN   \n",
       "1            NZ, , Auckland      Success          NaN   \n",
       "2             US, IA, Wever          NaN          NaN   \n",
       "3        US, DC, Washington        Sales          NaN   \n",
       "4        US, FL, Fort Worth          NaN          NaN   \n",
       "...                     ...          ...          ...   \n",
       "17875       CA, ON, Toronto        Sales          NaN   \n",
       "17876  US, PA, Philadelphia   Accounting          NaN   \n",
       "17877       US, TX, Houston          NaN          NaN   \n",
       "17878         NG, LA, Lagos          NaN          NaN   \n",
       "17879     NZ, N, Wellington  Engineering          NaN   \n",
       "\n",
       "                                         company_profile  \\\n",
       "0      We're Food52, and we've created a groundbreaki...   \n",
       "1      90 Seconds, the worlds Cloud Video Production ...   \n",
       "2      Valor Services provides Workforce Solutions th...   \n",
       "3      Our passion for improving quality of life thro...   \n",
       "4      SpotSource Solutions LLC is a Global Human Cap...   \n",
       "...                                                  ...   \n",
       "17875  Vend is looking for some awesome new talent to...   \n",
       "17876  WebLinc is the e-commerce platform and service...   \n",
       "17877  We Provide Full Time Permanent Positions for m...   \n",
       "17878                                                NaN   \n",
       "17879  Vend is looking for some awesome new talent to...   \n",
       "\n",
       "                                             description  \\\n",
       "0      Food52, a fast-growing, James Beard Award-winn...   \n",
       "1      Organised - Focused - Vibrant - Awesome!Do you...   \n",
       "2      Our client, located in Houston, is actively se...   \n",
       "3      THE COMPANY: ESRI – Environmental Systems Rese...   \n",
       "4      JOB TITLE: Itemization Review ManagerLOCATION:...   \n",
       "...                                                  ...   \n",
       "17875  Just in case this is the first time you’ve vis...   \n",
       "17876  The Payroll Accountant will focus primarily on...   \n",
       "17877  Experienced Project Cost Control Staff Enginee...   \n",
       "17878  Nemsia Studios is looking for an experienced v...   \n",
       "17879  Who are we?Vend is an award winning web based ...   \n",
       "\n",
       "                                            requirements  \\\n",
       "0      Experience with content management systems a m...   \n",
       "1      What we expect from you:Your key responsibilit...   \n",
       "2      Implement pre-commissioning and commissioning ...   \n",
       "3      EDUCATION: Bachelor’s or Master’s in GIS, busi...   \n",
       "4      QUALIFICATIONS:RN license in the State of Texa...   \n",
       "...                                                  ...   \n",
       "17875  To ace this role you:Will eat comprehensive St...   \n",
       "17876  - B.A. or B.S. in Accounting- Desire to have f...   \n",
       "17877  At least 12 years professional experience.Abil...   \n",
       "17878  1. Must be fluent in the latest versions of Co...   \n",
       "17879  We want to hear from you if:You have an in-dep...   \n",
       "\n",
       "                                                benefits  telecommuting  \\\n",
       "0                                                    NaN              0   \n",
       "1      What you will get from usThrough being part of...              0   \n",
       "2                                                    NaN              0   \n",
       "3      Our culture is anything but corporate—we have ...              0   \n",
       "4                                  Full Benefits Offered              0   \n",
       "...                                                  ...            ...   \n",
       "17875  What can you expect from us?We have an open cu...              0   \n",
       "17876  Health &amp; WellnessMedical planPrescription ...              0   \n",
       "17877                                                NaN              0   \n",
       "17878  Competitive salary (compensation will be based...              0   \n",
       "17879                                                NaN              0   \n",
       "\n",
       "       has_company_logo  has_questions employment_type required_experience  \\\n",
       "0                     1              0           Other          Internship   \n",
       "1                     1              0       Full-time      Not Applicable   \n",
       "2                     1              0             NaN                 NaN   \n",
       "3                     1              0       Full-time    Mid-Senior level   \n",
       "4                     1              1       Full-time    Mid-Senior level   \n",
       "...                 ...            ...             ...                 ...   \n",
       "17875                 1              1       Full-time    Mid-Senior level   \n",
       "17876                 1              1       Full-time    Mid-Senior level   \n",
       "17877                 0              0       Full-time                 NaN   \n",
       "17878                 0              1        Contract      Not Applicable   \n",
       "17879                 1              1       Full-time    Mid-Senior level   \n",
       "\n",
       "      required_education                   industry              function  \\\n",
       "0                    NaN                        NaN             Marketing   \n",
       "1                    NaN  Marketing and Advertising      Customer Service   \n",
       "2                    NaN                        NaN                   NaN   \n",
       "3      Bachelor's Degree          Computer Software                 Sales   \n",
       "4      Bachelor's Degree     Hospital & Health Care  Health Care Provider   \n",
       "...                  ...                        ...                   ...   \n",
       "17875                NaN          Computer Software                 Sales   \n",
       "17876  Bachelor's Degree                   Internet   Accounting/Auditing   \n",
       "17877                NaN                        NaN                   NaN   \n",
       "17878       Professional             Graphic Design                Design   \n",
       "17879                NaN          Computer Software           Engineering   \n",
       "\n",
       "       fraudulent  \n",
       "0               0  \n",
       "1               0  \n",
       "2               0  \n",
       "3               0  \n",
       "4               0  \n",
       "...           ...  \n",
       "17875           0  \n",
       "17876           0  \n",
       "17877           0  \n",
       "17878           0  \n",
       "17879           0  \n",
       "\n",
       "[17880 rows x 18 columns]"
      ]
     },
     "execution_count": 5,
     "metadata": {},
     "output_type": "execute_result"
    }
   ],
   "source": [
    "df.drop_duplicates(subset=None, keep='first', inplace=False)"
   ]
  },
  {
   "cell_type": "code",
   "execution_count": 6,
   "metadata": {},
   "outputs": [],
   "source": [
    "# drop job_id\n",
    "df.drop('job_id', axis=1, inplace=True)"
   ]
  },
  {
   "cell_type": "markdown",
   "metadata": {},
   "source": [
    "## data cleaning on numerical features:\n",
    "\n",
    "salary range is string with format ($xxx - $xxx) let's split into 2 seperate feature 'salary_min' and 'salary_max' as integer data type."
   ]
  },
  {
   "cell_type": "code",
   "execution_count": 7,
   "metadata": {},
   "outputs": [],
   "source": [
    "# fill null\n",
    "df['salary_range'].fillna('0-0', inplace=True)\n",
    "\n",
    "# split ini 2 cols\n",
    "df['salary_min'], df['salary_max'] = df['salary_range'].str.split('-', 1).str\n",
    "\n",
    "df['salary_min'] = df['salary_min'].astype(str)\n",
    "df['salary_max'] = df['salary_max'].astype(str)"
   ]
  },
  {
   "cell_type": "code",
   "execution_count": 8,
   "metadata": {},
   "outputs": [
    {
     "name": "stdout",
     "output_type": "stream",
     "text": [
      "159 ('9', 'Dec')\n",
      "1884 ('3', 'Apr')\n",
      "1981 ('4', 'Apr')\n",
      "2313 ('Oct', '15')\n",
      "4299 ('8', 'Sep')\n",
      "5538 ('40000', 'nan')\n",
      "9124 ('4', 'Jun')\n",
      "9902 ('10', 'Oct')\n",
      "9911 ('Oct', '20')\n",
      "10316 ('Jun', '18')\n",
      "10785 ('10', 'Oct')\n",
      "10788 ('11', 'Nov')\n",
      "10860 ('10', 'Nov')\n",
      "10883 ('10', 'Oct')\n",
      "10889 ('10', 'Nov')\n",
      "10896 ('10', 'Oct')\n",
      "10905 ('10', 'Nov')\n",
      "11361 ('11', 'Dec')\n",
      "11495 ('2', 'Apr')\n",
      "11606 ('10', 'Nov')\n",
      "12421 ('10', 'Oct')\n",
      "13449 ('11', 'Nov')\n",
      "13482 ('2', 'Jun')\n",
      "14196 ('Oct', '20')\n",
      "15483 ('10', 'Oct')\n",
      "17233 ('10', 'Nov')\n",
      "17656 ('Dec', '25')\n"
     ]
    }
   ],
   "source": [
    "# check for any noise data/invalid data\n",
    "for idx, row in df.iterrows():\n",
    "    # check if value not numerical\n",
    "    if not row['salary_min'].isdigit() or not row['salary_max'].isdigit():\n",
    "        print(idx, (row['salary_min'], row['salary_max']))"
   ]
  },
  {
   "cell_type": "markdown",
   "metadata": {},
   "source": [
    "there's some invalid data. let's replace it with 0"
   ]
  },
  {
   "cell_type": "code",
   "execution_count": 9,
   "metadata": {},
   "outputs": [],
   "source": [
    "for idx, row in df.iterrows():\n",
    "    if not row['salary_min'].isdigit() or not row['salary_max'].isdigit():\n",
    "        df.loc[idx, 'salary_min'] = '0'\n",
    "        df.loc[idx, 'salary_max'] = '0'\n",
    "\n",
    "# replace to numerical\n",
    "df['salary_min'] = pd.to_numeric(df['salary_min']) \n",
    "df['salary_max'] = pd.to_numeric(df['salary_max']) \n",
    "\n",
    "# delete salary_range\n",
    "df.drop('salary_range', axis=1, inplace=True)\n",
    "\n",
    "# replace numerical feature list\n",
    "numerical_feat = ['salary_min', 'salary_max']"
   ]
  },
  {
   "cell_type": "markdown",
   "metadata": {},
   "source": [
    "## data cleaning on categorical features"
   ]
  },
  {
   "cell_type": "code",
   "execution_count": 10,
   "metadata": {},
   "outputs": [],
   "source": [
    "# fill null\n",
    "for col in categorical_feat:\n",
    "    df[col].fillna('', inplace=True)"
   ]
  },
  {
   "cell_type": "markdown",
   "metadata": {},
   "source": [
    "## data cleaning on text features"
   ]
  },
  {
   "cell_type": "code",
   "execution_count": 11,
   "metadata": {},
   "outputs": [],
   "source": [
    "# fill null\n",
    "for col in text_feat:\n",
    "    df[col].fillna('', inplace=True)"
   ]
  },
  {
   "cell_type": "code",
   "execution_count": 12,
   "metadata": {},
   "outputs": [
    {
     "data": {
      "text/html": [
       "<div>\n",
       "<style scoped>\n",
       "    .dataframe tbody tr th:only-of-type {\n",
       "        vertical-align: middle;\n",
       "    }\n",
       "\n",
       "    .dataframe tbody tr th {\n",
       "        vertical-align: top;\n",
       "    }\n",
       "\n",
       "    .dataframe thead th {\n",
       "        text-align: right;\n",
       "    }\n",
       "</style>\n",
       "<table border=\"1\" class=\"dataframe\">\n",
       "  <thead>\n",
       "    <tr style=\"text-align: right;\">\n",
       "      <th></th>\n",
       "      <th>fraudulent</th>\n",
       "      <th>title_wc</th>\n",
       "      <th>location_wc</th>\n",
       "      <th>department_wc</th>\n",
       "      <th>company_profile_wc</th>\n",
       "      <th>description_wc</th>\n",
       "      <th>requirements_wc</th>\n",
       "      <th>benefits_wc</th>\n",
       "    </tr>\n",
       "  </thead>\n",
       "  <tbody>\n",
       "    <tr>\n",
       "      <th>0</th>\n",
       "      <td>0</td>\n",
       "      <td>2</td>\n",
       "      <td>4</td>\n",
       "      <td>1</td>\n",
       "      <td>141</td>\n",
       "      <td>124</td>\n",
       "      <td>115</td>\n",
       "      <td>0</td>\n",
       "    </tr>\n",
       "    <tr>\n",
       "      <th>1</th>\n",
       "      <td>0</td>\n",
       "      <td>6</td>\n",
       "      <td>3</td>\n",
       "      <td>1</td>\n",
       "      <td>153</td>\n",
       "      <td>315</td>\n",
       "      <td>200</td>\n",
       "      <td>227</td>\n",
       "    </tr>\n",
       "    <tr>\n",
       "      <th>2</th>\n",
       "      <td>0</td>\n",
       "      <td>4</td>\n",
       "      <td>3</td>\n",
       "      <td>0</td>\n",
       "      <td>141</td>\n",
       "      <td>50</td>\n",
       "      <td>164</td>\n",
       "      <td>0</td>\n",
       "    </tr>\n",
       "    <tr>\n",
       "      <th>3</th>\n",
       "      <td>0</td>\n",
       "      <td>5</td>\n",
       "      <td>3</td>\n",
       "      <td>1</td>\n",
       "      <td>85</td>\n",
       "      <td>346</td>\n",
       "      <td>176</td>\n",
       "      <td>97</td>\n",
       "    </tr>\n",
       "    <tr>\n",
       "      <th>4</th>\n",
       "      <td>0</td>\n",
       "      <td>3</td>\n",
       "      <td>4</td>\n",
       "      <td>0</td>\n",
       "      <td>207</td>\n",
       "      <td>168</td>\n",
       "      <td>89</td>\n",
       "      <td>3</td>\n",
       "    </tr>\n",
       "  </tbody>\n",
       "</table>\n",
       "</div>"
      ],
      "text/plain": [
       "   fraudulent  title_wc  location_wc  department_wc  company_profile_wc  \\\n",
       "0           0         2            4              1                 141   \n",
       "1           0         6            3              1                 153   \n",
       "2           0         4            3              0                 141   \n",
       "3           0         5            3              1                  85   \n",
       "4           0         3            4              0                 207   \n",
       "\n",
       "   description_wc  requirements_wc  benefits_wc  \n",
       "0             124              115            0  \n",
       "1             315              200          227  \n",
       "2              50              164            0  \n",
       "3             346              176           97  \n",
       "4             168               89            3  "
      ]
     },
     "execution_count": 12,
     "metadata": {},
     "output_type": "execute_result"
    }
   ],
   "source": [
    "# making df of text data's word count for analysis\n",
    "\n",
    "# df for text analysis\n",
    "text_count = pd.DataFrame(df['fraudulent'])\n",
    "\n",
    "# append columns\n",
    "for col in text_feat:\n",
    "    count = df[col].str.split().map(lambda x: len(x))\n",
    "    text_count[col+'_wc'] = count\n",
    "\n",
    "text_count.head()"
   ]
  },
  {
   "cell_type": "markdown",
   "metadata": {},
   "source": [
    "## EXPLORATORY DATA ANALYSIS (EDA)"
   ]
  },
  {
   "cell_type": "markdown",
   "metadata": {},
   "source": [
    "### function to plot:"
   ]
  },
  {
   "cell_type": "code",
   "execution_count": 13,
   "metadata": {},
   "outputs": [],
   "source": [
    "# pie chart\n",
    "def fig_piechart(df, col):\n",
    "    fig = plt.figure(figsize=(5,5))\n",
    "    fig.set_facecolor('white')\n",
    "    colors = ['#f8b195', '#f67280', '#c06c84', '#6c5b7b', '#355c7d','#685268']\n",
    "    # colors = ['#034c65', '#ef8c86', '#fcb677', '#685268', '#355c7d','#6c5b7b']\n",
    "    ax = (df[col].value_counts()*100.0/len(df)).plot.pie(legend=False, autopct='%1.1f%%', fontsize=12, colors=colors)\n",
    "    ax.set_title(col)\n",
    "    plt.show()"
   ]
  },
  {
   "cell_type": "code",
   "execution_count": 14,
   "metadata": {},
   "outputs": [],
   "source": [
    "# kdeplot figure\n",
    "def fig_kdeplot(df, col):\n",
    "    fig = plt.figure(figsize=(9,5))\n",
    "    fig.set_facecolor('white')\n",
    "    ax = df[col].hist(bins=10, density=False, alpha=0.5, color='purple')\n",
    "    ax = sns.kdeplot(data=df, x=col, shade=False, alpha=0.9, linewidth=2)\n",
    "    ax.set_title(col, fontsize=20)\n",
    "    plt.show()"
   ]
  },
  {
   "cell_type": "code",
   "execution_count": 15,
   "metadata": {},
   "outputs": [],
   "source": [
    "# kdeplot figure yn\n",
    "def fig_kdeplot_yn(df, col):\n",
    "    fig = plt.figure(figsize=(9, 5))\n",
    "    fig.set_facecolor('white')\n",
    "\n",
    "    ax = sns.kdeplot(data=df, x=(df[col][df['fraudulent'] == 1]), shade=True, alpha=0.2, linewidth=2, color='red')\n",
    "    ax = sns.kdeplot(data=df, x=(df[col][df['fraudulent'] == 0]), shade=True, alpha=0.2, linewidth=2, color='blue')\n",
    "    \n",
    "    ax.set_title(col, fontsize=20)\n",
    "    ax.legend(['fraud', 'real'], loc='upper right')\n",
    "    plt.show()"
   ]
  },
  {
   "cell_type": "code",
   "execution_count": 16,
   "metadata": {},
   "outputs": [],
   "source": [
    "# boxplot figure\n",
    "def fig_boxplot(df,col):\n",
    "    fig = plt.figure(figsize=(12,9))\n",
    "    fig.set_facecolor('white')\n",
    "\n",
    "    ax = sns.boxplot(df[col])\n",
    "    ax.set_title(col, fontsize=20)\n",
    "    plt.show()"
   ]
  },
  {
   "cell_type": "code",
   "execution_count": 17,
   "metadata": {},
   "outputs": [],
   "source": [
    "def fig_sub_pie(df, col):\n",
    "    fig, ax = plt.subplots(1, 2, sharey=False, figsize=(9, 5))\n",
    "    \n",
    "    # pieplot\n",
    "    fig.set_facecolor('white')\n",
    "    colors = ['#034c65', '#ef8c86', '#fcb677', '#685268', '#355c7d','#6c5b7b']\n",
    "    (df[col].value_counts()*100.0/len(df)).plot.pie(legend=False, autopct='%1.1f%%', fontsize=12, colors=colors, ax=ax[0])\n",
    "    \n",
    "    # countplot\n",
    "    sns.countplot(data=df, x=col, hue='fraudulent', palette='Accent', ax=ax[1])\n",
    "    # percentage on countplot\n",
    "    bars = ax[1].patches\n",
    "    half = int(len(bars)/2)\n",
    "    left_bars = bars[:half]\n",
    "    right_bars = bars[half:]\n",
    "\n",
    "    for left, right in zip(left_bars, right_bars):\n",
    "        height_l = left.get_height()\n",
    "        height_r = right.get_height()\n",
    "        total = height_l + height_r\n",
    "\n",
    "        ax[1].text(left.get_x() + left.get_width()/2., height_l + 40, '{0:.1%}'.format(height_l/total), ha=\"center\")\n",
    "        ax[1].text(right.get_x() + right.get_width()/2., height_r + 40, '{0:.1%}'.format(height_r/total), ha=\"center\")\n",
    "\n",
    "    \n",
    "    plt.tight_layout()\n",
    "    plt.show()"
   ]
  },
  {
   "cell_type": "code",
   "execution_count": 18,
   "metadata": {},
   "outputs": [],
   "source": [
    "def fig_sub_pie_detailed(df, col):\n",
    "    fig, ax = plt.subplots(1, 2, sharey=False, figsize=(9, 5))\n",
    "    \n",
    "    # pieplot\n",
    "    fig.set_facecolor('white')\n",
    "    colors = ['#034c65', '#ef8c86', '#fcb677', '#685268', '#355c7d','#6c5b7b']\n",
    "    (df[col].value_counts()*100.0/len(df)).plot.pie(legend=False, autopct='%1.1f%%', fontsize=12, colors=colors, ax=ax[0])\n",
    "    \n",
    "    # countplot\n",
    "    sns.countplot(data=df, x=col, hue='fraudulent', palette='Accent', ax=ax[1])\n",
    "    \n",
    "    plt.tight_layout()\n",
    "    plt.show()"
   ]
  },
  {
   "cell_type": "code",
   "execution_count": 19,
   "metadata": {},
   "outputs": [],
   "source": [
    "def fig_sub_count_detailed(df, col):\n",
    "    fig, ax = plt.subplots(1, 2, sharey=True, figsize=(9, 5))\n",
    "    fig.set_facecolor('white')\n",
    "\n",
    "    sns.countplot(data=df, x=col, palette='Dark2', ax=ax[0])\n",
    "    sns.countplot(data=df, x=col, hue='fraudulent', palette='flare', ax=ax[1])\n",
    "    \n",
    "    ax[0].set_xticklabels(ax[0].get_xticklabels(), rotation=90, ha='right', fontsize=9)\n",
    "    ax[1].set_xticklabels(ax[1].get_xticklabels(), rotation=90, ha='right', fontsize=9)\n",
    "\n",
    "    plt.show()"
   ]
  },
  {
   "cell_type": "code",
   "execution_count": 20,
   "metadata": {},
   "outputs": [],
   "source": [
    "# kdeplot figure yn\n",
    "def fig_kdeplot_yn(df, col):\n",
    "    fig = plt.figure(figsize=(9, 5))\n",
    "\n",
    "    ax = sns.kdeplot(data=df, x=(df[col][df['fraudulent'] == 1]), shade=True, alpha=0.2, linewidth=2, color='red')\n",
    "    ax = sns.kdeplot(data=df, x=(df[col][df['fraudulent'] == 0]), shade=True, alpha=0.2, linewidth=2, color='blue')\n",
    "    \n",
    "    ax.set_title(col, fontsize=20)\n",
    "    ax.legend(['fraud', 'real'], loc='upper right')\n",
    "    plt.show()"
   ]
  },
  {
   "cell_type": "markdown",
   "metadata": {},
   "source": [
    "## analysis on target ('fraudulent')\n",
    "\n",
    "Q: is the target's data skewed?"
   ]
  },
  {
   "cell_type": "code",
   "execution_count": 21,
   "metadata": {},
   "outputs": [
    {
     "data": {
      "image/png": "[encoded data removed]",
      "text/plain": [
       "<Figure size 360x360 with 1 Axes>"
      ]
     },
     "metadata": {},
     "output_type": "display_data"
    }
   ],
   "source": [
    "fig_piechart(df, 'fraudulent')"
   ]
  },
  {
   "cell_type": "markdown",
   "metadata": {},
   "source": [
    "there's only 4,8% fraud on dataset, as expected on fraud where we expect to find small fraud number. Still, we can improve the service and experience by a fraud detection.\n",
    "\n",
    "however, we need to consider this skewness as it can lead to false negatives, we will do upsampling method to handle this in preprocessing later."
   ]
  },
  {
   "cell_type": "markdown",
   "metadata": {},
   "source": [
    "## analysis on numerical features\n",
    "\n",
    "numerical feature consist of:\n",
    "\n",
    "numerical = ['salary_min', 'salary_max']"
   ]
  },
  {
   "cell_type": "code",
   "execution_count": 22,
   "metadata": {},
   "outputs": [
    {
     "data": {
      "image/png": "[encoded data removed]",
      "text/plain": [
       "<Figure size 648x360 with 1 Axes>"
      ]
     },
     "metadata": {},
     "output_type": "display_data"
    },
    {
     "data": {
      "image/png": "[encoded data removed]",
      "text/plain": [
       "<Figure size 864x648 with 1 Axes>"
      ]
     },
     "metadata": {},
     "output_type": "display_data"
    }
   ],
   "source": [
    "fig_kdeplot(df, 'salary_min')\n",
    "fig_boxplot(df, 'salary_min')"
   ]
  },
  {
   "cell_type": "code",
   "execution_count": 23,
   "metadata": {},
   "outputs": [
    {
     "data": {
      "image/png": "[encoded data removed]",
      "text/plain": [
       "<Figure size 648x360 with 1 Axes>"
      ]
     },
     "metadata": {},
     "output_type": "display_data"
    },
    {
     "data": {
      "image/png": "[encoded data removed]",
      "text/plain": [
       "<Figure size 864x648 with 1 Axes>"
      ]
     },
     "metadata": {},
     "output_type": "display_data"
    }
   ],
   "source": [
    "fig_kdeplot(df, 'salary_max')\n",
    "fig_boxplot(df, 'salary_max')"
   ]
  },
  {
   "cell_type": "markdown",
   "metadata": {},
   "source": [
    "seems like there's few outlier on 'real' (not fraudulent) data. let's remove it by replacing the value with 0. Since it wasn't fraud case, i think its okay to remove the data."
   ]
  },
  {
   "cell_type": "code",
   "execution_count": 24,
   "metadata": {},
   "outputs": [],
   "source": [
    "# from scipy import stats "
   ]
  },
  {
   "cell_type": "code",
   "execution_count": 25,
   "metadata": {},
   "outputs": [],
   "source": [
    "# median = df['salary_min'].median()\n",
    "# std = df['salary_min'].std()\n",
    "# outliers = (df['salary_min'] - median).abs() > std\n",
    "\n",
    "\n",
    "# # df.loc[df['salarymin'] == outliers]\n",
    "# # median = df['salary_max'].median()\n",
    "# # std = df['salary_max'].std()\n",
    "# # outliers = (df['salary_max'] - median).abs() > std\n",
    "# # df[outliers] = 0 "
   ]
  },
  {
   "cell_type": "code",
   "execution_count": 26,
   "metadata": {},
   "outputs": [
    {
     "data": {
      "image/png": "[encoded data removed]",
      "text/plain": [
       "<Figure size 648x360 with 1 Axes>"
      ]
     },
     "metadata": {
      "needs_background": "light"
     },
     "output_type": "display_data"
    }
   ],
   "source": [
    "fig_kdeplot_yn(df, 'salary_min')"
   ]
  },
  {
   "cell_type": "code",
   "execution_count": 27,
   "metadata": {},
   "outputs": [
    {
     "data": {
      "image/png": "[encoded data removed]",
      "text/plain": [
       "<Figure size 648x360 with 1 Axes>"
      ]
     },
     "metadata": {
      "needs_background": "light"
     },
     "output_type": "display_data"
    }
   ],
   "source": [
    "fig_kdeplot_yn(df, 'salary_max')"
   ]
  },
  {
   "cell_type": "markdown",
   "metadata": {},
   "source": [
    "both data and fraud to real case has simmilar distribution."
   ]
  },
  {
   "cell_type": "markdown",
   "metadata": {},
   "source": [
    "## analysis on categorical features\n",
    "\n",
    "categorical feature consist of:\n",
    "\n",
    "categorical_feat = ['telecommuting', 'has_company_logo', 'has_questions', 'employment_type', 'required_experience', 'required_education', 'industry', 'function', 'fraudulent']"
   ]
  },
  {
   "cell_type": "code",
   "execution_count": 28,
   "metadata": {},
   "outputs": [
    {
     "data": {
      "image/png": "[encoded data removed]",
      "text/plain": [
       "<Figure size 648x360 with 2 Axes>"
      ]
     },
     "metadata": {},
     "output_type": "display_data"
    }
   ],
   "source": [
    "fig_sub_pie(df, 'telecommuting')"
   ]
  },
  {
   "cell_type": "markdown",
   "metadata": {},
   "source": [
    "there're more fraud that was not telecommuting, however, the dataset skewed, there're 95,8% of total that was telecommuting."
   ]
  },
  {
   "cell_type": "code",
   "execution_count": 29,
   "metadata": {},
   "outputs": [
    {
     "data": {
      "image/png": "[encoded data removed]",
      "text/plain": [
       "<Figure size 648x360 with 2 Axes>"
      ]
     },
     "metadata": {},
     "output_type": "display_data"
    }
   ],
   "source": [
    "fig_sub_pie(df, 'has_company_logo')"
   ]
  },
  {
   "cell_type": "markdown",
   "metadata": {},
   "source": [
    "fraud cases more likely to not has_company_logo, with only 2% of data that has_company_logo was a fraud"
   ]
  },
  {
   "cell_type": "code",
   "execution_count": 30,
   "metadata": {},
   "outputs": [
    {
     "data": {
      "image/png": "[encoded data removed]",
      "text/plain": [
       "<Figure size 648x360 with 2 Axes>"
      ]
     },
     "metadata": {},
     "output_type": "display_data"
    }
   ],
   "source": [
    "fig_sub_pie(df, 'has_questions')"
   ]
  },
  {
   "cell_type": "markdown",
   "metadata": {},
   "source": [
    "job who listed questions has balance distribution. There're more cases of fraud who didn't has questions."
   ]
  },
  {
   "cell_type": "code",
   "execution_count": 31,
   "metadata": {},
   "outputs": [
    {
     "data": {
      "image/png": "[encoded data removed]",
      "text/plain": [
       "<Figure size 648x360 with 2 Axes>"
      ]
     },
     "metadata": {},
     "output_type": "display_data"
    }
   ],
   "source": [
    "fig_sub_pie_detailed(df, 'employment_type')"
   ]
  },
  {
   "cell_type": "markdown",
   "metadata": {},
   "source": [
    "the most common employment type is Full-time with 64,4%, followed with not listing with 19,4% and contract with 8,5%. there's no special pattern for fraudulent cases."
   ]
  },
  {
   "cell_type": "code",
   "execution_count": 32,
   "metadata": {},
   "outputs": [
    {
     "data": {
      "image/png": "[encoded data removed]",
      "text/plain": [
       "<Figure size 648x360 with 2 Axes>"
      ]
     },
     "metadata": {},
     "output_type": "display_data"
    }
   ],
   "source": [
    "fig_sub_pie_detailed(df, 'required_experience')"
   ]
  },
  {
   "cell_type": "markdown",
   "metadata": {},
   "source": [
    "39,4% not listed any required experience. 21% required mid-senior level, 15% entry level, and 12,7% associate. There's no special pattern to fraudulent cases."
   ]
  },
  {
   "cell_type": "code",
   "execution_count": 33,
   "metadata": {},
   "outputs": [
    {
     "data": {
      "image/png": "[encoded data removed]",
      "text/plain": [
       "<Figure size 648x360 with 2 Axes>"
      ]
     },
     "metadata": {},
     "output_type": "display_data"
    }
   ],
   "source": [
    "fig_sub_count_detailed(df, 'required_education')"
   ]
  },
  {
   "cell_type": "markdown",
   "metadata": {},
   "source": [
    "the most common required education is no requirement, followed with bachelor's degree. There's more fraud case happend with no required education listed."
   ]
  },
  {
   "cell_type": "code",
   "execution_count": 34,
   "metadata": {},
   "outputs": [],
   "source": [
    "# fig_sub_count_detailed(df, 'industry')"
   ]
  },
  {
   "cell_type": "code",
   "execution_count": 35,
   "metadata": {},
   "outputs": [
    {
     "data": {
      "image/png": "[encoded data removed]",
      "text/plain": [
       "<Figure size 648x360 with 2 Axes>"
      ]
     },
     "metadata": {},
     "output_type": "display_data"
    }
   ],
   "source": [
    "fig_sub_count_detailed(df, 'function')"
   ]
  },
  {
   "cell_type": "markdown",
   "metadata": {},
   "source": [
    "analysis of correlation matrix on categorical feature.\n",
    "\n",
    "we can see how feature correlated by making correlation matrix heatmap.\n"
   ]
  },
  {
   "cell_type": "code",
   "execution_count": 36,
   "metadata": {},
   "outputs": [],
   "source": [
    "from sklearn.preprocessing import LabelEncoder"
   ]
  },
  {
   "cell_type": "markdown",
   "metadata": {},
   "source": [
    "first, we need to encode the features"
   ]
  },
  {
   "cell_type": "code",
   "execution_count": 37,
   "metadata": {},
   "outputs": [],
   "source": [
    "# making new df for encoded categorical feature\n",
    "categorical_df = df[categorical_feat]\n",
    "for col in categorical_feat:\n",
    "    categorical_df[col] = categorical_df[col].astype(str)"
   ]
  },
  {
   "cell_type": "code",
   "execution_count": 38,
   "metadata": {},
   "outputs": [],
   "source": [
    "# encode for 0 and 1 (yes/no)category:\n",
    "for i in ['fraudulent', 'telecommuting', 'has_company_logo', 'has_questions']:\n",
    "    categorical_df[i].replace(to_replace='1', value=1, inplace=True)\n",
    "    categorical_df[i].replace(to_replace='0', value=0, inplace=True)"
   ]
  },
  {
   "cell_type": "code",
   "execution_count": 39,
   "metadata": {},
   "outputs": [
    {
     "data": {
      "text/plain": [
       "<AxesSubplot:>"
      ]
     },
     "execution_count": 39,
     "metadata": {},
     "output_type": "execute_result"
    },
    {
     "data": {
      "image/png": "[encoded data removed]",
      "text/plain": [
       "<Figure size 720x576 with 2 Axes>"
      ]
     },
     "metadata": {},
     "output_type": "display_data"
    }
   ],
   "source": [
    "# label encoder\n",
    "le = LabelEncoder()\n",
    "categorical_df = categorical_df.apply(le.fit_transform)\n",
    "\n",
    "fig = plt.figure(figsize=(10, 8))\n",
    "fig.set_facecolor('white')\n",
    "\n",
    "feature_corr = categorical_df.corr()\n",
    "sns.heatmap(feature_corr, annot=False, cmap='mako')"
   ]
  },
  {
   "cell_type": "markdown",
   "metadata": {},
   "source": [
    "correlation with fraudulent:"
   ]
  },
  {
   "cell_type": "code",
   "execution_count": 40,
   "metadata": {},
   "outputs": [
    {
     "data": {
      "text/plain": [
       "<AxesSubplot:>"
      ]
     },
     "execution_count": 40,
     "metadata": {},
     "output_type": "execute_result"
    },
    {
     "data": {
      "image/png": "[encoded data removed]",
      "text/plain": [
       "<Figure size 72x720 with 2 Axes>"
      ]
     },
     "metadata": {},
     "output_type": "display_data"
    }
   ],
   "source": [
    "fig = plt.figure(figsize=(1,10))\n",
    "fig.set_facecolor('white')\n",
    "sns.heatmap(categorical_df.corr()[['fraudulent']].sort_values('fraudulent', ascending=False)[1:], annot=True, cmap=\"mako\")"
   ]
  },
  {
   "cell_type": "markdown",
   "metadata": {},
   "source": [
    "as we expected by analysis before, 'has_company_logo' correlated well with fraudulent"
   ]
  },
  {
   "cell_type": "markdown",
   "metadata": {},
   "source": [
    "## analysis on text feature\n",
    "\n",
    "text feature consist of:\n",
    "\n",
    "text_feat = ['title', 'location', 'department', 'company_profile', 'description' , 'requirements', 'benefits']"
   ]
  },
  {
   "cell_type": "markdown",
   "metadata": {},
   "source": [
    "we've make word count dataframe before. let's analyse the word distribution."
   ]
  },
  {
   "cell_type": "code",
   "execution_count": 41,
   "metadata": {},
   "outputs": [
    {
     "data": {
      "image/png": "[encoded data removed]",
      "text/plain": [
       "<Figure size 648x360 with 1 Axes>"
      ]
     },
     "metadata": {
      "needs_background": "light"
     },
     "output_type": "display_data"
    }
   ],
   "source": [
    "fig_kdeplot_yn(text_count, 'title_wc')"
   ]
  },
  {
   "cell_type": "code",
   "execution_count": 42,
   "metadata": {},
   "outputs": [
    {
     "data": {
      "image/png": "[encoded data removed]",
      "text/plain": [
       "<Figure size 648x360 with 1 Axes>"
      ]
     },
     "metadata": {
      "needs_background": "light"
     },
     "output_type": "display_data"
    }
   ],
   "source": [
    "fig_kdeplot_yn(text_count, 'department_wc')"
   ]
  },
  {
   "cell_type": "code",
   "execution_count": 43,
   "metadata": {},
   "outputs": [
    {
     "data": {
      "image/png": "[encoded data removed]",
      "text/plain": [
       "<Figure size 648x360 with 1 Axes>"
      ]
     },
     "metadata": {
      "needs_background": "light"
     },
     "output_type": "display_data"
    }
   ],
   "source": [
    "fig_kdeplot_yn(text_count, 'company_profile_wc')"
   ]
  },
  {
   "cell_type": "markdown",
   "metadata": {},
   "source": [
    "fraud's company profile has lesser word count (more likely 0/doesn't have any company profile)"
   ]
  },
  {
   "cell_type": "code",
   "execution_count": 44,
   "metadata": {},
   "outputs": [
    {
     "data": {
      "image/png": "[encoded data removed]",
      "text/plain": [
       "<Figure size 648x360 with 1 Axes>"
      ]
     },
     "metadata": {
      "needs_background": "light"
     },
     "output_type": "display_data"
    }
   ],
   "source": [
    "fig_kdeplot_yn(text_count, 'description_wc')"
   ]
  },
  {
   "cell_type": "code",
   "execution_count": 45,
   "metadata": {},
   "outputs": [
    {
     "data": {
      "image/png": "[encoded data removed]",
      "text/plain": [
       "<Figure size 648x360 with 1 Axes>"
      ]
     },
     "metadata": {
      "needs_background": "light"
     },
     "output_type": "display_data"
    }
   ],
   "source": [
    "fig_kdeplot_yn(text_count, 'requirements_wc')"
   ]
  },
  {
   "cell_type": "code",
   "execution_count": 46,
   "metadata": {},
   "outputs": [
    {
     "data": {
      "image/png": "[encoded data removed]",
      "text/plain": [
       "<Figure size 648x360 with 1 Axes>"
      ]
     },
     "metadata": {
      "needs_background": "light"
     },
     "output_type": "display_data"
    }
   ],
   "source": [
    "fig_kdeplot_yn(text_count, 'benefits_wc')"
   ]
  },
  {
   "cell_type": "markdown",
   "metadata": {},
   "source": [
    "# PREPROCESSING\n",
    "\n",
    "we will do preprocessing to features:\n",
    "\n",
    "- categorical features    -> encode\n",
    "- numerical features      -> scale\n",
    "- word_count  (numerical) -> scale\n",
    "- text feature            -> text cleaning and vectorize (TF-IDF)\n",
    "- target column           -> upsample (reduce skewness)"
   ]
  },
  {
   "cell_type": "markdown",
   "metadata": {},
   "source": [
    "### encode categorical features\n",
    "\n",
    "categorical feature consist of:\n",
    "\n",
    "categorical_feat = ['telecommuting', 'has_company_logo', 'has_questions', 'employment_type', 'required_experience', 'required_education', 'industry', 'function', 'fraudulent']\n"
   ]
  },
  {
   "cell_type": "code",
   "execution_count": 47,
   "metadata": {},
   "outputs": [],
   "source": [
    "categorical_feat = ['fraudulent', 'telecommuting','has_company_logo', 'has_questions', 'employment_type', 'required_experience', 'required_education', 'function']"
   ]
  },
  {
   "cell_type": "markdown",
   "metadata": {},
   "source": [
    "we've encode categorical features before when making correlation matrix, we've also saved the values on categorial_df."
   ]
  },
  {
   "cell_type": "code",
   "execution_count": 48,
   "metadata": {},
   "outputs": [
    {
     "name": "stdout",
     "output_type": "stream",
     "text": [
      "<class 'pandas.core.frame.DataFrame'>\n",
      "RangeIndex: 17880 entries, 0 to 17879\n",
      "Data columns (total 9 columns):\n",
      " #   Column               Non-Null Count  Dtype\n",
      "---  ------               --------------  -----\n",
      " 0   fraudulent           17880 non-null  int64\n",
      " 1   telecommuting        17880 non-null  int64\n",
      " 2   has_company_logo     17880 non-null  int64\n",
      " 3   has_questions        17880 non-null  int64\n",
      " 4   employment_type      17880 non-null  int32\n",
      " 5   required_experience  17880 non-null  int32\n",
      " 6   required_education   17880 non-null  int32\n",
      " 7   industry             17880 non-null  int32\n",
      " 8   function             17880 non-null  int32\n",
      "dtypes: int32(5), int64(4)\n",
      "memory usage: 908.1 KB\n"
     ]
    }
   ],
   "source": [
    "categorical_df.info()"
   ]
  },
  {
   "cell_type": "markdown",
   "metadata": {},
   "source": [
    "### scale numerical feature\n",
    "\n",
    "numerical feature consist of:\n",
    "\n",
    "numerical = ['salary_min', 'salary_max']\n",
    "\n",
    "word_count"
   ]
  },
  {
   "cell_type": "code",
   "execution_count": 49,
   "metadata": {},
   "outputs": [],
   "source": [
    "numerical_feat = ['salary_min', 'salary_max', 'title_wc', 'location_wc', 'department_wc', 'company_profile_wc', 'description_wc', 'requirements_wc', 'benefits_wc']"
   ]
  },
  {
   "cell_type": "code",
   "execution_count": 50,
   "metadata": {},
   "outputs": [],
   "source": [
    "numerical_df = pd.DataFrame(df[['salary_min', 'salary_max']])\n",
    "# add text_count df\n",
    "numerical_df = numerical_df.join(text_count.copy())\n",
    "numerical_df.drop('fraudulent', axis=1, inplace=True)"
   ]
  },
  {
   "cell_type": "code",
   "execution_count": 51,
   "metadata": {},
   "outputs": [],
   "source": [
    "from sklearn.preprocessing import MinMaxScaler"
   ]
  },
  {
   "cell_type": "code",
   "execution_count": 52,
   "metadata": {},
   "outputs": [
    {
     "data": {
      "text/html": [
       "<div>\n",
       "<style scoped>\n",
       "    .dataframe tbody tr th:only-of-type {\n",
       "        vertical-align: middle;\n",
       "    }\n",
       "\n",
       "    .dataframe tbody tr th {\n",
       "        vertical-align: top;\n",
       "    }\n",
       "\n",
       "    .dataframe thead th {\n",
       "        text-align: right;\n",
       "    }\n",
       "</style>\n",
       "<table border=\"1\" class=\"dataframe\">\n",
       "  <thead>\n",
       "    <tr style=\"text-align: right;\">\n",
       "      <th></th>\n",
       "      <th>salary_min</th>\n",
       "      <th>salary_max</th>\n",
       "      <th>title_wc</th>\n",
       "      <th>location_wc</th>\n",
       "      <th>department_wc</th>\n",
       "      <th>company_profile_wc</th>\n",
       "      <th>description_wc</th>\n",
       "      <th>requirements_wc</th>\n",
       "      <th>benefits_wc</th>\n",
       "    </tr>\n",
       "  </thead>\n",
       "  <tbody>\n",
       "    <tr>\n",
       "      <th>0</th>\n",
       "      <td>0.0</td>\n",
       "      <td>0.0</td>\n",
       "      <td>0.055556</td>\n",
       "      <td>0.181818</td>\n",
       "      <td>0.027027</td>\n",
       "      <td>0.159322</td>\n",
       "      <td>0.058629</td>\n",
       "      <td>0.069909</td>\n",
       "      <td>0.000000</td>\n",
       "    </tr>\n",
       "    <tr>\n",
       "      <th>1</th>\n",
       "      <td>0.0</td>\n",
       "      <td>0.0</td>\n",
       "      <td>0.277778</td>\n",
       "      <td>0.136364</td>\n",
       "      <td>0.027027</td>\n",
       "      <td>0.172881</td>\n",
       "      <td>0.148936</td>\n",
       "      <td>0.121581</td>\n",
       "      <td>0.327089</td>\n",
       "    </tr>\n",
       "    <tr>\n",
       "      <th>2</th>\n",
       "      <td>0.0</td>\n",
       "      <td>0.0</td>\n",
       "      <td>0.166667</td>\n",
       "      <td>0.136364</td>\n",
       "      <td>0.000000</td>\n",
       "      <td>0.159322</td>\n",
       "      <td>0.023641</td>\n",
       "      <td>0.099696</td>\n",
       "      <td>0.000000</td>\n",
       "    </tr>\n",
       "    <tr>\n",
       "      <th>3</th>\n",
       "      <td>0.0</td>\n",
       "      <td>0.0</td>\n",
       "      <td>0.222222</td>\n",
       "      <td>0.136364</td>\n",
       "      <td>0.027027</td>\n",
       "      <td>0.096045</td>\n",
       "      <td>0.163593</td>\n",
       "      <td>0.106991</td>\n",
       "      <td>0.139769</td>\n",
       "    </tr>\n",
       "    <tr>\n",
       "      <th>4</th>\n",
       "      <td>0.0</td>\n",
       "      <td>0.0</td>\n",
       "      <td>0.111111</td>\n",
       "      <td>0.181818</td>\n",
       "      <td>0.000000</td>\n",
       "      <td>0.233898</td>\n",
       "      <td>0.079433</td>\n",
       "      <td>0.054103</td>\n",
       "      <td>0.004323</td>\n",
       "    </tr>\n",
       "  </tbody>\n",
       "</table>\n",
       "</div>"
      ],
      "text/plain": [
       "   salary_min  salary_max  title_wc  location_wc  department_wc  \\\n",
       "0         0.0         0.0  0.055556     0.181818       0.027027   \n",
       "1         0.0         0.0  0.277778     0.136364       0.027027   \n",
       "2         0.0         0.0  0.166667     0.136364       0.000000   \n",
       "3         0.0         0.0  0.222222     0.136364       0.027027   \n",
       "4         0.0         0.0  0.111111     0.181818       0.000000   \n",
       "\n",
       "   company_profile_wc  description_wc  requirements_wc  benefits_wc  \n",
       "0            0.159322        0.058629         0.069909     0.000000  \n",
       "1            0.172881        0.148936         0.121581     0.327089  \n",
       "2            0.159322        0.023641         0.099696     0.000000  \n",
       "3            0.096045        0.163593         0.106991     0.139769  \n",
       "4            0.233898        0.079433         0.054103     0.004323  "
      ]
     },
     "execution_count": 52,
     "metadata": {},
     "output_type": "execute_result"
    }
   ],
   "source": [
    "scaler = MinMaxScaler()\n",
    "# for col in numerical_feat:\n",
    "numerical_df[numerical_feat] = scaler.fit_transform(numerical_df[numerical_feat])\n",
    "numerical_df.head()"
   ]
  },
  {
   "cell_type": "markdown",
   "metadata": {},
   "source": [
    "### clean text feature\n",
    "\n",
    "\n",
    "text feature consist of:\n",
    "\n",
    "text_feat = ['title', 'location', 'department', 'company_profile', 'description' , 'requirements', 'benefits']"
   ]
  },
  {
   "cell_type": "markdown",
   "metadata": {},
   "source": [
    "preprocessing/cleaning on text dataset consist of:\n",
    "1. remove punctuation \n",
    "2. tokenize/split\n",
    "3. remove stopwords\n",
    "4. lemmatize/stemming\n",
    "5. remove other (url, html tag, emoji, number)\n",
    "6. vectorize (TF-IDF)"
   ]
  },
  {
   "cell_type": "code",
   "execution_count": 53,
   "metadata": {},
   "outputs": [
    {
     "data": {
      "text/html": [
       "<div>\n",
       "<style scoped>\n",
       "    .dataframe tbody tr th:only-of-type {\n",
       "        vertical-align: middle;\n",
       "    }\n",
       "\n",
       "    .dataframe tbody tr th {\n",
       "        vertical-align: top;\n",
       "    }\n",
       "\n",
       "    .dataframe thead th {\n",
       "        text-align: right;\n",
       "    }\n",
       "</style>\n",
       "<table border=\"1\" class=\"dataframe\">\n",
       "  <thead>\n",
       "    <tr style=\"text-align: right;\">\n",
       "      <th></th>\n",
       "      <th>title</th>\n",
       "      <th>location</th>\n",
       "      <th>department</th>\n",
       "      <th>company_profile</th>\n",
       "      <th>description</th>\n",
       "      <th>requirements</th>\n",
       "      <th>benefits</th>\n",
       "    </tr>\n",
       "  </thead>\n",
       "  <tbody>\n",
       "    <tr>\n",
       "      <th>0</th>\n",
       "      <td>Marketing Intern</td>\n",
       "      <td>US, NY, New York</td>\n",
       "      <td>Marketing</td>\n",
       "      <td>We're Food52, and we've created a groundbreaki...</td>\n",
       "      <td>Food52, a fast-growing, James Beard Award-winn...</td>\n",
       "      <td>Experience with content management systems a m...</td>\n",
       "      <td></td>\n",
       "    </tr>\n",
       "    <tr>\n",
       "      <th>1</th>\n",
       "      <td>Customer Service - Cloud Video Production</td>\n",
       "      <td>NZ, , Auckland</td>\n",
       "      <td>Success</td>\n",
       "      <td>90 Seconds, the worlds Cloud Video Production ...</td>\n",
       "      <td>Organised - Focused - Vibrant - Awesome!Do you...</td>\n",
       "      <td>What we expect from you:Your key responsibilit...</td>\n",
       "      <td>What you will get from usThrough being part of...</td>\n",
       "    </tr>\n",
       "  </tbody>\n",
       "</table>\n",
       "</div>"
      ],
      "text/plain": [
       "                                       title          location department  \\\n",
       "0                           Marketing Intern  US, NY, New York  Marketing   \n",
       "1  Customer Service - Cloud Video Production    NZ, , Auckland    Success   \n",
       "\n",
       "                                     company_profile  \\\n",
       "0  We're Food52, and we've created a groundbreaki...   \n",
       "1  90 Seconds, the worlds Cloud Video Production ...   \n",
       "\n",
       "                                         description  \\\n",
       "0  Food52, a fast-growing, James Beard Award-winn...   \n",
       "1  Organised - Focused - Vibrant - Awesome!Do you...   \n",
       "\n",
       "                                        requirements  \\\n",
       "0  Experience with content management systems a m...   \n",
       "1  What we expect from you:Your key responsibilit...   \n",
       "\n",
       "                                            benefits  \n",
       "0                                                     \n",
       "1  What you will get from usThrough being part of...  "
      ]
     },
     "execution_count": 53,
     "metadata": {},
     "output_type": "execute_result"
    }
   ],
   "source": [
    "# cleaned text df\n",
    "# text_df = pd.DataFrame()\n",
    "text_df = pd.DataFrame(df[text_feat])\n",
    "text_df.head(2)"
   ]
  },
  {
   "cell_type": "code",
   "execution_count": 54,
   "metadata": {},
   "outputs": [],
   "source": [
    "import string\n",
    "import re\n",
    "from nltk.corpus import stopwords\n",
    "from nltk.util import ngrams\n",
    "sw = stopwords.words('english') \n",
    "import nltk\n",
    "from nltk.stem import WordNetLemmatizer  \n",
    "from sklearn.feature_extraction.text import TfidfVectorizer\n",
    "from sklearn.feature_extraction.text import CountVectorizer"
   ]
  },
  {
   "cell_type": "code",
   "execution_count": 55,
   "metadata": {},
   "outputs": [
    {
     "data": {
      "text/html": [
       "<div>\n",
       "<style scoped>\n",
       "    .dataframe tbody tr th:only-of-type {\n",
       "        vertical-align: middle;\n",
       "    }\n",
       "\n",
       "    .dataframe tbody tr th {\n",
       "        vertical-align: top;\n",
       "    }\n",
       "\n",
       "    .dataframe thead th {\n",
       "        text-align: right;\n",
       "    }\n",
       "</style>\n",
       "<table border=\"1\" class=\"dataframe\">\n",
       "  <thead>\n",
       "    <tr style=\"text-align: right;\">\n",
       "      <th></th>\n",
       "      <th>title</th>\n",
       "      <th>location</th>\n",
       "      <th>department</th>\n",
       "      <th>company_profile</th>\n",
       "      <th>description</th>\n",
       "      <th>requirements</th>\n",
       "      <th>benefits</th>\n",
       "    </tr>\n",
       "  </thead>\n",
       "  <tbody>\n",
       "    <tr>\n",
       "      <th>0</th>\n",
       "      <td>Marketing Intern</td>\n",
       "      <td>US NY New York</td>\n",
       "      <td>Marketing</td>\n",
       "      <td>Were Food52 and weve created a groundbreaking ...</td>\n",
       "      <td>Food52 a fastgrowing James Beard Awardwinning ...</td>\n",
       "      <td>Experience with content management systems a m...</td>\n",
       "      <td></td>\n",
       "    </tr>\n",
       "    <tr>\n",
       "      <th>1</th>\n",
       "      <td>Customer Service  Cloud Video Production</td>\n",
       "      <td>NZ  Auckland</td>\n",
       "      <td>Success</td>\n",
       "      <td>90 Seconds the worlds Cloud Video Production S...</td>\n",
       "      <td>Organised  Focused  Vibrant  AwesomeDo you hav...</td>\n",
       "      <td>What we expect from youYour key responsibility...</td>\n",
       "      <td>What you will get from usThrough being part of...</td>\n",
       "    </tr>\n",
       "    <tr>\n",
       "      <th>2</th>\n",
       "      <td>Commissioning Machinery Assistant CMA</td>\n",
       "      <td>US IA Wever</td>\n",
       "      <td></td>\n",
       "      <td>Valor Services provides Workforce Solutions th...</td>\n",
       "      <td>Our client located in Houston is actively seek...</td>\n",
       "      <td>Implement precommissioning and commissioning p...</td>\n",
       "      <td></td>\n",
       "    </tr>\n",
       "    <tr>\n",
       "      <th>3</th>\n",
       "      <td>Account Executive  Washington DC</td>\n",
       "      <td>US DC Washington</td>\n",
       "      <td>Sales</td>\n",
       "      <td>Our passion for improving quality of life thro...</td>\n",
       "      <td>THE COMPANY ESRI – Environmental Systems Resea...</td>\n",
       "      <td>EDUCATION Bachelor’s or Master’s in GIS busine...</td>\n",
       "      <td>Our culture is anything but corporate—we have ...</td>\n",
       "    </tr>\n",
       "    <tr>\n",
       "      <th>4</th>\n",
       "      <td>Bill Review Manager</td>\n",
       "      <td>US FL Fort Worth</td>\n",
       "      <td></td>\n",
       "      <td>SpotSource Solutions LLC is a Global Human Cap...</td>\n",
       "      <td>JOB TITLE Itemization Review ManagerLOCATION F...</td>\n",
       "      <td>QUALIFICATIONSRN license in the State of Texas...</td>\n",
       "      <td>Full Benefits Offered</td>\n",
       "    </tr>\n",
       "  </tbody>\n",
       "</table>\n",
       "</div>"
      ],
      "text/plain": [
       "                                      title          location department  \\\n",
       "0                          Marketing Intern    US NY New York  Marketing   \n",
       "1  Customer Service  Cloud Video Production      NZ  Auckland    Success   \n",
       "2     Commissioning Machinery Assistant CMA       US IA Wever              \n",
       "3          Account Executive  Washington DC  US DC Washington      Sales   \n",
       "4                       Bill Review Manager  US FL Fort Worth              \n",
       "\n",
       "                                     company_profile  \\\n",
       "0  Were Food52 and weve created a groundbreaking ...   \n",
       "1  90 Seconds the worlds Cloud Video Production S...   \n",
       "2  Valor Services provides Workforce Solutions th...   \n",
       "3  Our passion for improving quality of life thro...   \n",
       "4  SpotSource Solutions LLC is a Global Human Cap...   \n",
       "\n",
       "                                         description  \\\n",
       "0  Food52 a fastgrowing James Beard Awardwinning ...   \n",
       "1  Organised  Focused  Vibrant  AwesomeDo you hav...   \n",
       "2  Our client located in Houston is actively seek...   \n",
       "3  THE COMPANY ESRI – Environmental Systems Resea...   \n",
       "4  JOB TITLE Itemization Review ManagerLOCATION F...   \n",
       "\n",
       "                                        requirements  \\\n",
       "0  Experience with content management systems a m...   \n",
       "1  What we expect from youYour key responsibility...   \n",
       "2  Implement precommissioning and commissioning p...   \n",
       "3  EDUCATION Bachelor’s or Master’s in GIS busine...   \n",
       "4  QUALIFICATIONSRN license in the State of Texas...   \n",
       "\n",
       "                                            benefits  \n",
       "0                                                     \n",
       "1  What you will get from usThrough being part of...  \n",
       "2                                                     \n",
       "3  Our culture is anything but corporate—we have ...  \n",
       "4                              Full Benefits Offered  "
      ]
     },
     "execution_count": 55,
     "metadata": {},
     "output_type": "execute_result"
    }
   ],
   "source": [
    "# remove punctuation\n",
    "def remove_punctuation(data):\n",
    "    removed_punc = [words for words in data if words not in string.punctuation ]\n",
    "    joined=''.join(removed_punc)\n",
    "    return joined\n",
    "\n",
    "for col in text_feat:\n",
    "    text_df[col] = text_df[col].apply(lambda x: remove_punctuation(x))\n",
    "\n",
    "text_df.head()"
   ]
  },
  {
   "cell_type": "code",
   "execution_count": 56,
   "metadata": {},
   "outputs": [
    {
     "data": {
      "text/html": [
       "<div>\n",
       "<style scoped>\n",
       "    .dataframe tbody tr th:only-of-type {\n",
       "        vertical-align: middle;\n",
       "    }\n",
       "\n",
       "    .dataframe tbody tr th {\n",
       "        vertical-align: top;\n",
       "    }\n",
       "\n",
       "    .dataframe thead th {\n",
       "        text-align: right;\n",
       "    }\n",
       "</style>\n",
       "<table border=\"1\" class=\"dataframe\">\n",
       "  <thead>\n",
       "    <tr style=\"text-align: right;\">\n",
       "      <th></th>\n",
       "      <th>title</th>\n",
       "      <th>location</th>\n",
       "      <th>department</th>\n",
       "      <th>company_profile</th>\n",
       "      <th>description</th>\n",
       "      <th>requirements</th>\n",
       "      <th>benefits</th>\n",
       "    </tr>\n",
       "  </thead>\n",
       "  <tbody>\n",
       "    <tr>\n",
       "      <th>0</th>\n",
       "      <td>[marketing, intern]</td>\n",
       "      <td>[us, ny, new, york]</td>\n",
       "      <td>[marketing]</td>\n",
       "      <td>[were, food52, and, weve, created, a, groundbr...</td>\n",
       "      <td>[food52, a, fastgrowing, james, beard, awardwi...</td>\n",
       "      <td>[experience, with, content, management, system...</td>\n",
       "      <td>[]</td>\n",
       "    </tr>\n",
       "    <tr>\n",
       "      <th>1</th>\n",
       "      <td>[customer, service, cloud, video, production]</td>\n",
       "      <td>[nz, auckland]</td>\n",
       "      <td>[success]</td>\n",
       "      <td>[90, seconds, the, worlds, cloud, video, produ...</td>\n",
       "      <td>[organised, focused, vibrant, awesomedo, you, ...</td>\n",
       "      <td>[what, we, expect, from, youyour, key, respons...</td>\n",
       "      <td>[what, you, will, get, from, usthrough, being,...</td>\n",
       "    </tr>\n",
       "  </tbody>\n",
       "</table>\n",
       "</div>"
      ],
      "text/plain": [
       "                                           title             location  \\\n",
       "0                            [marketing, intern]  [us, ny, new, york]   \n",
       "1  [customer, service, cloud, video, production]       [nz, auckland]   \n",
       "\n",
       "    department                                    company_profile  \\\n",
       "0  [marketing]  [were, food52, and, weve, created, a, groundbr...   \n",
       "1    [success]  [90, seconds, the, worlds, cloud, video, produ...   \n",
       "\n",
       "                                         description  \\\n",
       "0  [food52, a, fastgrowing, james, beard, awardwi...   \n",
       "1  [organised, focused, vibrant, awesomedo, you, ...   \n",
       "\n",
       "                                        requirements  \\\n",
       "0  [experience, with, content, management, system...   \n",
       "1  [what, we, expect, from, youyour, key, respons...   \n",
       "\n",
       "                                            benefits  \n",
       "0                                                 []  \n",
       "1  [what, you, will, get, from, usthrough, being,...  "
      ]
     },
     "execution_count": 56,
     "metadata": {},
     "output_type": "execute_result"
    }
   ],
   "source": [
    "# tokenize\n",
    "def tokenize(data):\n",
    "    split = re.split(\"\\W+\",data) \n",
    "    return split\n",
    "\n",
    "for col in text_feat:\n",
    "    text_df[col] = text_df[col].apply(lambda x: tokenize(x.lower()))\n",
    "\n",
    "text_df.head(2)"
   ]
  },
  {
   "cell_type": "code",
   "execution_count": 57,
   "metadata": {},
   "outputs": [
    {
     "data": {
      "text/html": [
       "<div>\n",
       "<style scoped>\n",
       "    .dataframe tbody tr th:only-of-type {\n",
       "        vertical-align: middle;\n",
       "    }\n",
       "\n",
       "    .dataframe tbody tr th {\n",
       "        vertical-align: top;\n",
       "    }\n",
       "\n",
       "    .dataframe thead th {\n",
       "        text-align: right;\n",
       "    }\n",
       "</style>\n",
       "<table border=\"1\" class=\"dataframe\">\n",
       "  <thead>\n",
       "    <tr style=\"text-align: right;\">\n",
       "      <th></th>\n",
       "      <th>title</th>\n",
       "      <th>location</th>\n",
       "      <th>department</th>\n",
       "      <th>company_profile</th>\n",
       "      <th>description</th>\n",
       "      <th>requirements</th>\n",
       "      <th>benefits</th>\n",
       "    </tr>\n",
       "  </thead>\n",
       "  <tbody>\n",
       "    <tr>\n",
       "      <th>0</th>\n",
       "      <td>[marketing, intern]</td>\n",
       "      <td>[us, ny, new, york]</td>\n",
       "      <td>[marketing]</td>\n",
       "      <td>[food52, weve, created, groundbreaking, awardw...</td>\n",
       "      <td>[food52, fastgrowing, james, beard, awardwinni...</td>\n",
       "      <td>[experience, content, management, systems, maj...</td>\n",
       "      <td>[]</td>\n",
       "    </tr>\n",
       "    <tr>\n",
       "      <th>1</th>\n",
       "      <td>[customer, service, cloud, video, production]</td>\n",
       "      <td>[nz, auckland]</td>\n",
       "      <td>[success]</td>\n",
       "      <td>[90, seconds, worlds, cloud, video, production...</td>\n",
       "      <td>[organised, focused, vibrant, awesomedo, passi...</td>\n",
       "      <td>[expect, youyour, key, responsibility, communi...</td>\n",
       "      <td>[get, usthrough, part, 90, seconds, team, gain...</td>\n",
       "    </tr>\n",
       "  </tbody>\n",
       "</table>\n",
       "</div>"
      ],
      "text/plain": [
       "                                           title             location  \\\n",
       "0                            [marketing, intern]  [us, ny, new, york]   \n",
       "1  [customer, service, cloud, video, production]       [nz, auckland]   \n",
       "\n",
       "    department                                    company_profile  \\\n",
       "0  [marketing]  [food52, weve, created, groundbreaking, awardw...   \n",
       "1    [success]  [90, seconds, worlds, cloud, video, production...   \n",
       "\n",
       "                                         description  \\\n",
       "0  [food52, fastgrowing, james, beard, awardwinni...   \n",
       "1  [organised, focused, vibrant, awesomedo, passi...   \n",
       "\n",
       "                                        requirements  \\\n",
       "0  [experience, content, management, systems, maj...   \n",
       "1  [expect, youyour, key, responsibility, communi...   \n",
       "\n",
       "                                            benefits  \n",
       "0                                                 []  \n",
       "1  [get, usthrough, part, 90, seconds, team, gain...  "
      ]
     },
     "execution_count": 57,
     "metadata": {},
     "output_type": "execute_result"
    }
   ],
   "source": [
    "# remove stopwords\n",
    "def remove_stopwords(data):\n",
    "    data = [words for words in data if words not in sw]\n",
    "    return data\n",
    "\n",
    "for col in text_feat:\n",
    "    text_df[col] = text_df[col].apply(lambda x: remove_stopwords(x))\n",
    "\n",
    "text_df.head(2)"
   ]
  },
  {
   "cell_type": "code",
   "execution_count": 58,
   "metadata": {},
   "outputs": [
    {
     "data": {
      "text/html": [
       "<div>\n",
       "<style scoped>\n",
       "    .dataframe tbody tr th:only-of-type {\n",
       "        vertical-align: middle;\n",
       "    }\n",
       "\n",
       "    .dataframe tbody tr th {\n",
       "        vertical-align: top;\n",
       "    }\n",
       "\n",
       "    .dataframe thead th {\n",
       "        text-align: right;\n",
       "    }\n",
       "</style>\n",
       "<table border=\"1\" class=\"dataframe\">\n",
       "  <thead>\n",
       "    <tr style=\"text-align: right;\">\n",
       "      <th></th>\n",
       "      <th>title</th>\n",
       "      <th>location</th>\n",
       "      <th>department</th>\n",
       "      <th>company_profile</th>\n",
       "      <th>description</th>\n",
       "      <th>requirements</th>\n",
       "      <th>benefits</th>\n",
       "    </tr>\n",
       "  </thead>\n",
       "  <tbody>\n",
       "    <tr>\n",
       "      <th>0</th>\n",
       "      <td>marketing intern</td>\n",
       "      <td>u ny new york</td>\n",
       "      <td>marketing</td>\n",
       "      <td>food52 weve created groundbreaking awardwinnin...</td>\n",
       "      <td>food52 fastgrowing james beard awardwinning on...</td>\n",
       "      <td>experience content management system major plu...</td>\n",
       "      <td></td>\n",
       "    </tr>\n",
       "    <tr>\n",
       "      <th>1</th>\n",
       "      <td>customer service cloud video production</td>\n",
       "      <td>nz auckland</td>\n",
       "      <td>success</td>\n",
       "      <td>90 second world cloud video production service...</td>\n",
       "      <td>organised focused vibrant awesomedo passion cu...</td>\n",
       "      <td>expect youyour key responsibility communicate ...</td>\n",
       "      <td>get usthrough part 90 second team gainexperien...</td>\n",
       "    </tr>\n",
       "  </tbody>\n",
       "</table>\n",
       "</div>"
      ],
      "text/plain": [
       "                                     title       location department  \\\n",
       "0                         marketing intern  u ny new york  marketing   \n",
       "1  customer service cloud video production    nz auckland    success   \n",
       "\n",
       "                                     company_profile  \\\n",
       "0  food52 weve created groundbreaking awardwinnin...   \n",
       "1  90 second world cloud video production service...   \n",
       "\n",
       "                                         description  \\\n",
       "0  food52 fastgrowing james beard awardwinning on...   \n",
       "1  organised focused vibrant awesomedo passion cu...   \n",
       "\n",
       "                                        requirements  \\\n",
       "0  experience content management system major plu...   \n",
       "1  expect youyour key responsibility communicate ...   \n",
       "\n",
       "                                            benefits  \n",
       "0                                                     \n",
       "1  get usthrough part 90 second team gainexperien...  "
      ]
     },
     "execution_count": 58,
     "metadata": {},
     "output_type": "execute_result"
    }
   ],
   "source": [
    "# lemmatize/stemming\n",
    "lemmatizer = WordNetLemmatizer()\n",
    "\n",
    "def lemmatize(data):    \n",
    "    lemmatized = ' '.join([lemmatizer.lemmatize(word) for word in data])\n",
    "    return lemmatized\n",
    "\n",
    "for col in text_feat:\n",
    "    text_df[col] = text_df[col].apply(lambda x: lemmatize(x))\n",
    "\n",
    "text_df.head(2)"
   ]
  },
  {
   "cell_type": "code",
   "execution_count": 59,
   "metadata": {},
   "outputs": [
    {
     "data": {
      "text/html": [
       "<div>\n",
       "<style scoped>\n",
       "    .dataframe tbody tr th:only-of-type {\n",
       "        vertical-align: middle;\n",
       "    }\n",
       "\n",
       "    .dataframe tbody tr th {\n",
       "        vertical-align: top;\n",
       "    }\n",
       "\n",
       "    .dataframe thead th {\n",
       "        text-align: right;\n",
       "    }\n",
       "</style>\n",
       "<table border=\"1\" class=\"dataframe\">\n",
       "  <thead>\n",
       "    <tr style=\"text-align: right;\">\n",
       "      <th></th>\n",
       "      <th>title</th>\n",
       "      <th>location</th>\n",
       "      <th>department</th>\n",
       "      <th>company_profile</th>\n",
       "      <th>description</th>\n",
       "      <th>requirements</th>\n",
       "      <th>benefits</th>\n",
       "    </tr>\n",
       "  </thead>\n",
       "  <tbody>\n",
       "    <tr>\n",
       "      <th>0</th>\n",
       "      <td>marketing intern</td>\n",
       "      <td>u ny new york</td>\n",
       "      <td>marketing</td>\n",
       "      <td>food weve created groundbreaking awardwinning ...</td>\n",
       "      <td>food fastgrowing james beard awardwinning onli...</td>\n",
       "      <td>experience content management system major plu...</td>\n",
       "      <td></td>\n",
       "    </tr>\n",
       "    <tr>\n",
       "      <th>1</th>\n",
       "      <td>customer service cloud video production</td>\n",
       "      <td>nz auckland</td>\n",
       "      <td>success</td>\n",
       "      <td>second world cloud video production service s...</td>\n",
       "      <td>organised focused vibrant awesomedo passion cu...</td>\n",
       "      <td>expect youyour key responsibility communicate ...</td>\n",
       "      <td>get usthrough part  second team gainexperience...</td>\n",
       "    </tr>\n",
       "  </tbody>\n",
       "</table>\n",
       "</div>"
      ],
      "text/plain": [
       "                                     title       location department  \\\n",
       "0                         marketing intern  u ny new york  marketing   \n",
       "1  customer service cloud video production    nz auckland    success   \n",
       "\n",
       "                                     company_profile  \\\n",
       "0  food weve created groundbreaking awardwinning ...   \n",
       "1   second world cloud video production service s...   \n",
       "\n",
       "                                         description  \\\n",
       "0  food fastgrowing james beard awardwinning onli...   \n",
       "1  organised focused vibrant awesomedo passion cu...   \n",
       "\n",
       "                                        requirements  \\\n",
       "0  experience content management system major plu...   \n",
       "1  expect youyour key responsibility communicate ...   \n",
       "\n",
       "                                            benefits  \n",
       "0                                                     \n",
       "1  get usthrough part  second team gainexperience...  "
      ]
     },
     "execution_count": 59,
     "metadata": {},
     "output_type": "execute_result"
    }
   ],
   "source": [
    "# remove url, html tag <>, emoji, number\n",
    "def clean_etc(data):\n",
    "    # url\n",
    "    data = re.sub(r'^https?:\\/\\/.*[\\r\\n]*', '', data, flags=re.MULTILINE)\n",
    "    # html tag < >\n",
    "    data = re.sub('<.*?>+', '', data)\n",
    "    # emoji\n",
    "    regrex_emoji = re.compile(pattern = \"[\"\n",
    "        u\"\\U0001F600-\\U0001F64F\"  # emoticons\n",
    "        u\"\\U0001F300-\\U0001F5FF\"  # symbols & pictographs\n",
    "        u\"\\U0001F680-\\U0001F6FF\"  # transport & map symbols\n",
    "        u\"\\U0001F1E0-\\U0001F1FF\"  # flags (iOS)\n",
    "        \"]+\", flags = re.UNICODE)\n",
    "    data = regrex_emoji.sub(r'',data)\n",
    "    # number\n",
    "    data = ''.join([words for words in data if not words.isdigit()])\n",
    "    return data\n",
    "\n",
    "for col in text_feat:\n",
    "    text_df[col] = text_df[col].apply(lambda x: clean_etc(x))\n",
    "\n",
    "text_df.head(2)"
   ]
  },
  {
   "cell_type": "code",
   "execution_count": 60,
   "metadata": {},
   "outputs": [],
   "source": [
    "# combine text column to vectorize\n",
    "text_df['combined_text'] = text_df['title'] + \" \" + text_df['location'] + \" \" + text_df['department'] + \" \" + text_df['company_profile'] + \" \" + text_df['description'] + \" \" + text_df['requirements'] + \" \" + text_df['benefits']"
   ]
  },
  {
   "cell_type": "code",
   "execution_count": 61,
   "metadata": {},
   "outputs": [
    {
     "name": "stdout",
     "output_type": "stream",
     "text": [
      "  (0, 59819)\t0.027309551863830203\n",
      "  (0, 74225)\t0.030334361152318537\n",
      "  (0, 147683)\t0.04394018777913672\n",
      "  (0, 45822)\t0.047572974176869794\n",
      "  (0, 16641)\t0.03041570840576102\n",
      "  (0, 127645)\t0.02695310578425739\n",
      "  (0, 149552)\t0.034716212489316604\n",
      "  (0, 108404)\t0.053670635093784703\n",
      "  (0, 130809)\t0.08626722221337124\n",
      "  (0, 121642)\t0.05029114761755939\n",
      "  (0, 36784)\t0.06326913858540961\n",
      "  (0, 23514)\t0.013974523906885658\n",
      "  (0, 116453)\t0.03855279588626088\n",
      "  (0, 56308)\t0.07950725215094724\n",
      "  (0, 85473)\t0.07950725215094724\n",
      "  (0, 95927)\t0.051165096941687215\n",
      "  (0, 95661)\t0.051280059867622525\n",
      "  (0, 52513)\t0.08496494725380731\n",
      "  (0, 38316)\t0.025999029482814393\n",
      "  (0, 22289)\t0.05175396242089056\n",
      "  (0, 101731)\t0.046152802311339704\n",
      "  (0, 95791)\t0.08626722221337124\n",
      "  (0, 48762)\t0.040163016607070466\n",
      "  (0, 140496)\t0.04105316174220346\n",
      "  (0, 78922)\t0.02539760492301426\n",
      "  :\t:\n",
      "  (17879, 46872)\t0.02540632758216891\n",
      "  (17879, 34677)\t0.022543510588827212\n",
      "  (17879, 149267)\t0.08664174810574307\n",
      "  (17879, 66335)\t0.04389611701525932\n",
      "  (17879, 49385)\t0.034087534335794784\n",
      "  (17879, 20418)\t0.027387122936320635\n",
      "  (17879, 73831)\t0.0820764658809017\n",
      "  (17879, 137060)\t0.014942756649666452\n",
      "  (17879, 13057)\t0.03699194370418051\n",
      "  (17879, 73056)\t0.16440403427902153\n",
      "  (17879, 103613)\t0.01749631190053023\n",
      "  (17879, 4266)\t0.035915314451137235\n",
      "  (17879, 132433)\t0.024215553553701464\n",
      "  (17879, 87021)\t0.018720246436595922\n",
      "  (17879, 93692)\t0.04952645452133343\n",
      "  (17879, 147019)\t0.021216840073072007\n",
      "  (17879, 134802)\t0.033284209554175395\n",
      "  (17879, 144339)\t0.02049103546668226\n",
      "  (17879, 133201)\t0.0785262908940526\n",
      "  (17879, 42059)\t0.0442486370487252\n",
      "  (17879, 15818)\t0.014187443384439374\n",
      "  (17879, 138524)\t0.024839525207456296\n",
      "  (17879, 84045)\t0.0342840227597004\n",
      "  (17879, 55078)\t0.028700990169127548\n",
      "  (17879, 85141)\t0.070474538753377\n"
     ]
    }
   ],
   "source": [
    "# vectorize\n",
    "vectorizer = TfidfVectorizer()\n",
    "# vectorizer = CountVectorizer()\n",
    "\n",
    "text_vector = vectorizer.fit_transform(text_df['combined_text'])\n",
    "print(text_vector)"
   ]
  },
  {
   "cell_type": "code",
   "execution_count": 62,
   "metadata": {},
   "outputs": [],
   "source": [
    "# text_vector.todense()"
   ]
  },
  {
   "cell_type": "code",
   "execution_count": 63,
   "metadata": {},
   "outputs": [],
   "source": [
    "vector_df = pd.DataFrame(text_vector, columns=['tfidf'])"
   ]
  },
  {
   "cell_type": "markdown",
   "metadata": {},
   "source": [
    "### combine df\n",
    "we've encode, scale, and vectorize data. lets combine them to one dataframe."
   ]
  },
  {
   "cell_type": "code",
   "execution_count": 64,
   "metadata": {},
   "outputs": [],
   "source": [
    "# cleaned_df = pd.DataFrame()"
   ]
  },
  {
   "cell_type": "code",
   "execution_count": 65,
   "metadata": {},
   "outputs": [],
   "source": [
    "cleaned_df = categorical_df.copy()\n",
    "# cleaned_df = cleaned_df.join(categorical_df.copy())\n",
    "cleaned_df = cleaned_df.join(numerical_df.copy())\n",
    "cleaned_df = cleaned_df.join(vector_df.copy())\n",
    "# cleaned_df = cleaned_df.join(text_df['combined_text'].copy())"
   ]
  },
  {
   "cell_type": "code",
   "execution_count": 66,
   "metadata": {},
   "outputs": [
    {
     "name": "stdout",
     "output_type": "stream",
     "text": [
      "<class 'pandas.core.frame.DataFrame'>\n",
      "RangeIndex: 17880 entries, 0 to 17879\n",
      "Data columns (total 19 columns):\n",
      " #   Column               Non-Null Count  Dtype  \n",
      "---  ------               --------------  -----  \n",
      " 0   fraudulent           17880 non-null  int64  \n",
      " 1   telecommuting        17880 non-null  int64  \n",
      " 2   has_company_logo     17880 non-null  int64  \n",
      " 3   has_questions        17880 non-null  int64  \n",
      " 4   employment_type      17880 non-null  int32  \n",
      " 5   required_experience  17880 non-null  int32  \n",
      " 6   required_education   17880 non-null  int32  \n",
      " 7   industry             17880 non-null  int32  \n",
      " 8   function             17880 non-null  int32  \n",
      " 9   salary_min           17880 non-null  float64\n",
      " 10  salary_max           17880 non-null  float64\n",
      " 11  title_wc             17880 non-null  float64\n",
      " 12  location_wc          17880 non-null  float64\n",
      " 13  department_wc        17880 non-null  float64\n",
      " 14  company_profile_wc   17880 non-null  float64\n",
      " 15  description_wc       17880 non-null  float64\n",
      " 16  requirements_wc      17880 non-null  float64\n",
      " 17  benefits_wc          17880 non-null  float64\n",
      " 18  tfidf                17880 non-null  object \n",
      "dtypes: float64(9), int32(5), int64(4), object(1)\n",
      "memory usage: 2.3+ MB\n"
     ]
    }
   ],
   "source": [
    "cleaned_df.info()"
   ]
  },
  {
   "cell_type": "markdown",
   "metadata": {},
   "source": [
    "### handling skewness of 'fraudulent' data.\n",
    "\n",
    "we aply upsample on the data. upsampling is process of resampling or generating data correspond to minority class. This make data added with the target 'fraudulent'"
   ]
  },
  {
   "cell_type": "code",
   "execution_count": 67,
   "metadata": {},
   "outputs": [],
   "source": [
    "from sklearn.utils import resample\n",
    "from sklearn.utils import shuffle"
   ]
  },
  {
   "cell_type": "code",
   "execution_count": 68,
   "metadata": {},
   "outputs": [],
   "source": [
    "# handling skewness on churn\n",
    "zero  = cleaned_df[cleaned_df['fraudulent']==0]\n",
    "one = cleaned_df[cleaned_df['fraudulent']==1]\n",
    "\n",
    "# upsample minority (fraudulent)\n",
    "upsample = resample(one, replace = True, n_samples = 7000) \n",
    "cleaned_df = pd.concat([zero, upsample])\n",
    "\n",
    "cleaned_df = shuffle(cleaned_df)"
   ]
  },
  {
   "cell_type": "code",
   "execution_count": 69,
   "metadata": {},
   "outputs": [
    {
     "name": "stdout",
     "output_type": "stream",
     "text": [
      "<class 'pandas.core.frame.DataFrame'>\n",
      "Int64Index: 24014 entries, 4004 to 17542\n",
      "Data columns (total 19 columns):\n",
      " #   Column               Non-Null Count  Dtype  \n",
      "---  ------               --------------  -----  \n",
      " 0   fraudulent           24014 non-null  int64  \n",
      " 1   telecommuting        24014 non-null  int64  \n",
      " 2   has_company_logo     24014 non-null  int64  \n",
      " 3   has_questions        24014 non-null  int64  \n",
      " 4   employment_type      24014 non-null  int32  \n",
      " 5   required_experience  24014 non-null  int32  \n",
      " 6   required_education   24014 non-null  int32  \n",
      " 7   industry             24014 non-null  int32  \n",
      " 8   function             24014 non-null  int32  \n",
      " 9   salary_min           24014 non-null  float64\n",
      " 10  salary_max           24014 non-null  float64\n",
      " 11  title_wc             24014 non-null  float64\n",
      " 12  location_wc          24014 non-null  float64\n",
      " 13  department_wc        24014 non-null  float64\n",
      " 14  company_profile_wc   24014 non-null  float64\n",
      " 15  description_wc       24014 non-null  float64\n",
      " 16  requirements_wc      24014 non-null  float64\n",
      " 17  benefits_wc          24014 non-null  float64\n",
      " 18  tfidf                24014 non-null  object \n",
      "dtypes: float64(9), int32(5), int64(4), object(1)\n",
      "memory usage: 3.2+ MB\n"
     ]
    }
   ],
   "source": [
    "cleaned_df.info()"
   ]
  },
  {
   "cell_type": "code",
   "execution_count": 70,
   "metadata": {},
   "outputs": [
    {
     "data": {
      "text/html": [
       "<div>\n",
       "<style scoped>\n",
       "    .dataframe tbody tr th:only-of-type {\n",
       "        vertical-align: middle;\n",
       "    }\n",
       "\n",
       "    .dataframe tbody tr th {\n",
       "        vertical-align: top;\n",
       "    }\n",
       "\n",
       "    .dataframe thead th {\n",
       "        text-align: right;\n",
       "    }\n",
       "</style>\n",
       "<table border=\"1\" class=\"dataframe\">\n",
       "  <thead>\n",
       "    <tr style=\"text-align: right;\">\n",
       "      <th></th>\n",
       "      <th>fraudulent</th>\n",
       "      <th>telecommuting</th>\n",
       "      <th>has_company_logo</th>\n",
       "      <th>has_questions</th>\n",
       "      <th>employment_type</th>\n",
       "      <th>required_experience</th>\n",
       "      <th>required_education</th>\n",
       "      <th>industry</th>\n",
       "      <th>function</th>\n",
       "      <th>salary_min</th>\n",
       "      <th>salary_max</th>\n",
       "      <th>title_wc</th>\n",
       "      <th>location_wc</th>\n",
       "      <th>department_wc</th>\n",
       "      <th>company_profile_wc</th>\n",
       "      <th>description_wc</th>\n",
       "      <th>requirements_wc</th>\n",
       "      <th>benefits_wc</th>\n",
       "      <th>tfidf</th>\n",
       "    </tr>\n",
       "  </thead>\n",
       "  <tbody>\n",
       "    <tr>\n",
       "      <th>4004</th>\n",
       "      <td>1</td>\n",
       "      <td>0</td>\n",
       "      <td>0</td>\n",
       "      <td>0</td>\n",
       "      <td>2</td>\n",
       "      <td>3</td>\n",
       "      <td>10</td>\n",
       "      <td>1</td>\n",
       "      <td>2</td>\n",
       "      <td>0.000015</td>\n",
       "      <td>0.000014</td>\n",
       "      <td>0.055556</td>\n",
       "      <td>0.181818</td>\n",
       "      <td>0.000000</td>\n",
       "      <td>0.000000</td>\n",
       "      <td>0.008511</td>\n",
       "      <td>0.060182</td>\n",
       "      <td>0.074928</td>\n",
       "      <td>(0, 87131)\\t0.14240905418546154\\n  (0, 43073...</td>\n",
       "    </tr>\n",
       "    <tr>\n",
       "      <th>4765</th>\n",
       "      <td>0</td>\n",
       "      <td>0</td>\n",
       "      <td>1</td>\n",
       "      <td>1</td>\n",
       "      <td>0</td>\n",
       "      <td>0</td>\n",
       "      <td>0</td>\n",
       "      <td>0</td>\n",
       "      <td>0</td>\n",
       "      <td>0.000000</td>\n",
       "      <td>0.000000</td>\n",
       "      <td>0.055556</td>\n",
       "      <td>0.136364</td>\n",
       "      <td>0.000000</td>\n",
       "      <td>0.244068</td>\n",
       "      <td>0.123877</td>\n",
       "      <td>0.016413</td>\n",
       "      <td>0.060519</td>\n",
       "      <td>(0, 59437)\\t0.07632702753471472\\n  (0, 85842...</td>\n",
       "    </tr>\n",
       "    <tr>\n",
       "      <th>11053</th>\n",
       "      <td>0</td>\n",
       "      <td>0</td>\n",
       "      <td>1</td>\n",
       "      <td>1</td>\n",
       "      <td>2</td>\n",
       "      <td>7</td>\n",
       "      <td>0</td>\n",
       "      <td>62</td>\n",
       "      <td>19</td>\n",
       "      <td>0.000000</td>\n",
       "      <td>0.000000</td>\n",
       "      <td>0.111111</td>\n",
       "      <td>0.136364</td>\n",
       "      <td>0.000000</td>\n",
       "      <td>0.085876</td>\n",
       "      <td>0.059574</td>\n",
       "      <td>0.053495</td>\n",
       "      <td>0.132565</td>\n",
       "      <td>(0, 115371)\\t0.11857564239749126\\n  (0, 1415...</td>\n",
       "    </tr>\n",
       "    <tr>\n",
       "      <th>4403</th>\n",
       "      <td>0</td>\n",
       "      <td>0</td>\n",
       "      <td>1</td>\n",
       "      <td>0</td>\n",
       "      <td>2</td>\n",
       "      <td>1</td>\n",
       "      <td>10</td>\n",
       "      <td>76</td>\n",
       "      <td>32</td>\n",
       "      <td>0.000000</td>\n",
       "      <td>0.000000</td>\n",
       "      <td>0.055556</td>\n",
       "      <td>0.136364</td>\n",
       "      <td>0.027027</td>\n",
       "      <td>0.141243</td>\n",
       "      <td>0.181087</td>\n",
       "      <td>0.070517</td>\n",
       "      <td>0.010086</td>\n",
       "      <td>(0, 23996)\\t0.07782457101293054\\n  (0, 73981...</td>\n",
       "    </tr>\n",
       "    <tr>\n",
       "      <th>10252</th>\n",
       "      <td>0</td>\n",
       "      <td>0</td>\n",
       "      <td>0</td>\n",
       "      <td>0</td>\n",
       "      <td>2</td>\n",
       "      <td>6</td>\n",
       "      <td>0</td>\n",
       "      <td>0</td>\n",
       "      <td>0</td>\n",
       "      <td>0.000000</td>\n",
       "      <td>0.000000</td>\n",
       "      <td>0.222222</td>\n",
       "      <td>0.090909</td>\n",
       "      <td>0.000000</td>\n",
       "      <td>0.000000</td>\n",
       "      <td>0.021277</td>\n",
       "      <td>0.000000</td>\n",
       "      <td>0.000000</td>\n",
       "      <td>(0, 39717)\\t0.38563377056016024\\n  (0, 53420...</td>\n",
       "    </tr>\n",
       "  </tbody>\n",
       "</table>\n",
       "</div>"
      ],
      "text/plain": [
       "       fraudulent  telecommuting  has_company_logo  has_questions  \\\n",
       "4004            1              0                 0              0   \n",
       "4765            0              0                 1              1   \n",
       "11053           0              0                 1              1   \n",
       "4403            0              0                 1              0   \n",
       "10252           0              0                 0              0   \n",
       "\n",
       "       employment_type  required_experience  required_education  industry  \\\n",
       "4004                 2                    3                  10         1   \n",
       "4765                 0                    0                   0         0   \n",
       "11053                2                    7                   0        62   \n",
       "4403                 2                    1                  10        76   \n",
       "10252                2                    6                   0         0   \n",
       "\n",
       "       function  salary_min  salary_max  title_wc  location_wc  department_wc  \\\n",
       "4004          2    0.000015    0.000014  0.055556     0.181818       0.000000   \n",
       "4765          0    0.000000    0.000000  0.055556     0.136364       0.000000   \n",
       "11053        19    0.000000    0.000000  0.111111     0.136364       0.000000   \n",
       "4403         32    0.000000    0.000000  0.055556     0.136364       0.027027   \n",
       "10252         0    0.000000    0.000000  0.222222     0.090909       0.000000   \n",
       "\n",
       "       company_profile_wc  description_wc  requirements_wc  benefits_wc  \\\n",
       "4004             0.000000        0.008511         0.060182     0.074928   \n",
       "4765             0.244068        0.123877         0.016413     0.060519   \n",
       "11053            0.085876        0.059574         0.053495     0.132565   \n",
       "4403             0.141243        0.181087         0.070517     0.010086   \n",
       "10252            0.000000        0.021277         0.000000     0.000000   \n",
       "\n",
       "                                                   tfidf  \n",
       "4004     (0, 87131)\\t0.14240905418546154\\n  (0, 43073...  \n",
       "4765     (0, 59437)\\t0.07632702753471472\\n  (0, 85842...  \n",
       "11053    (0, 115371)\\t0.11857564239749126\\n  (0, 1415...  \n",
       "4403     (0, 23996)\\t0.07782457101293054\\n  (0, 73981...  \n",
       "10252    (0, 39717)\\t0.38563377056016024\\n  (0, 53420...  "
      ]
     },
     "execution_count": 70,
     "metadata": {},
     "output_type": "execute_result"
    }
   ],
   "source": [
    "cleaned_df.head()"
   ]
  },
  {
   "cell_type": "markdown",
   "metadata": {},
   "source": [
    "# TRAIN TEST SPLIT\n",
    "\n",
    "Train and Test split with Cross Validation to avoid overfit."
   ]
  },
  {
   "cell_type": "code",
   "execution_count": 71,
   "metadata": {},
   "outputs": [],
   "source": [
    "y = cleaned_df.fraudulent\n",
    "x = cleaned_df.drop('fraudulent', axis=1)\n",
    "x = x.drop('tfidf', axis=1) # problem with cxr matrix and unable to convert to dense/array\n",
    "# x_train, x_test, y_train, y_test = train_test_split(x,y,test_size=0.3, random_state=0)\n",
    "# x_train, x_test, y_train, y_test = train_test_split(x,y,test_size=0.3)"
   ]
  },
  {
   "cell_type": "code",
   "execution_count": 72,
   "metadata": {},
   "outputs": [],
   "source": [
    "from sklearn.model_selection import StratifiedKFold"
   ]
  },
  {
   "cell_type": "code",
   "execution_count": 73,
   "metadata": {},
   "outputs": [],
   "source": [
    "skf = StratifiedKFold(n_splits=4)\n",
    "# X, y = data.drop('fraudulent', axis=1), data.fraudulent"
   ]
  },
  {
   "cell_type": "code",
   "execution_count": 74,
   "metadata": {},
   "outputs": [
    {
     "name": "stdout",
     "output_type": "stream",
     "text": [
      "TRAIN: [ 5997  5998  5999 ... 24011 24012 24013] TEST: [   0    1    2 ... 6022 6023 6028]\n",
      "TRAIN: [    0     1     2 ... 24011 24012 24013] TEST: [ 5997  5998  5999 ... 12109 12117 12129]\n",
      "TRAIN: [    0     1     2 ... 24011 24012 24013] TEST: [11957 11958 11959 ... 18175 18178 18182]\n",
      "TRAIN: [    0     1     2 ... 18175 18178 18182] TEST: [17948 17949 17951 ... 24011 24012 24013]\n"
     ]
    }
   ],
   "source": [
    "for train_index, test_index in skf.split(x, y):\n",
    "    print(\"TRAIN:\", train_index, \"TEST:\", test_index)"
   ]
  },
  {
   "cell_type": "code",
   "execution_count": 75,
   "metadata": {},
   "outputs": [
    {
     "name": "stdout",
     "output_type": "stream",
     "text": [
      "<class 'pandas.core.frame.DataFrame'>\n",
      "Int64Index: 24014 entries, 4004 to 17542\n",
      "Data columns (total 17 columns):\n",
      " #   Column               Non-Null Count  Dtype  \n",
      "---  ------               --------------  -----  \n",
      " 0   telecommuting        24014 non-null  int64  \n",
      " 1   has_company_logo     24014 non-null  int64  \n",
      " 2   has_questions        24014 non-null  int64  \n",
      " 3   employment_type      24014 non-null  int32  \n",
      " 4   required_experience  24014 non-null  int32  \n",
      " 5   required_education   24014 non-null  int32  \n",
      " 6   industry             24014 non-null  int32  \n",
      " 7   function             24014 non-null  int32  \n",
      " 8   salary_min           24014 non-null  float64\n",
      " 9   salary_max           24014 non-null  float64\n",
      " 10  title_wc             24014 non-null  float64\n",
      " 11  location_wc          24014 non-null  float64\n",
      " 12  department_wc        24014 non-null  float64\n",
      " 13  company_profile_wc   24014 non-null  float64\n",
      " 14  description_wc       24014 non-null  float64\n",
      " 15  requirements_wc      24014 non-null  float64\n",
      " 16  benefits_wc          24014 non-null  float64\n",
      "dtypes: float64(9), int32(5), int64(3)\n",
      "memory usage: 2.8 MB\n"
     ]
    }
   ],
   "source": [
    "x.info()"
   ]
  },
  {
   "cell_type": "markdown",
   "metadata": {},
   "source": [
    "# MODEL BUILDING"
   ]
  },
  {
   "cell_type": "code",
   "execution_count": 76,
   "metadata": {},
   "outputs": [],
   "source": [
    "from sklearn.model_selection import cross_validate"
   ]
  },
  {
   "cell_type": "code",
   "execution_count": 77,
   "metadata": {},
   "outputs": [],
   "source": [
    "# list model name and accuracies\n",
    "models = []\n",
    "accuracies = []"
   ]
  },
  {
   "cell_type": "markdown",
   "metadata": {},
   "source": [
    "## 1. LOGISTIC REGRESSION"
   ]
  },
  {
   "cell_type": "code",
   "execution_count": 78,
   "metadata": {},
   "outputs": [],
   "source": [
    "from sklearn.linear_model import LogisticRegression\n",
    "logreg = LogisticRegression()\n",
    "\n",
    "cv_scores = cross_validate(logreg, x, y, return_train_score=True, cv=skf, \n",
    "                           scoring=['accuracy', 'roc_auc'], n_jobs=-1)"
   ]
  },
  {
   "cell_type": "code",
   "execution_count": 79,
   "metadata": {},
   "outputs": [
    {
     "name": "stdout",
     "output_type": "stream",
     "text": [
      "{'fit_time': array([0.20348239, 0.20447898, 0.20447898, 0.20447898]), 'score_time': array([0.00900626, 0.00800967, 0.00800967, 0.00800967]), 'test_accuracy': array([0.79213857, 0.80046636, 0.8045977 , 0.78677328]), 'train_accuracy': array([0.79261521, 0.79966685, 0.8012881 , 0.79368164]), 'test_roc_auc': array([0.80633783, 0.80694137, 0.8087203 , 0.80323093]), 'train_roc_auc': array([0.81013648, 0.80743578, 0.80530608, 0.80681586])}\n"
     ]
    }
   ],
   "source": [
    "print(cv_scores)"
   ]
  },
  {
   "cell_type": "code",
   "execution_count": 80,
   "metadata": {},
   "outputs": [],
   "source": [
    "acc = 0\n",
    "for i in range(4):\n",
    "    acc = acc + cv_scores['test_accuracy'][i]\n",
    "acc = acc/4\n",
    "\n",
    "models.append('Logistic Regression')\n",
    "accuracies.append(acc)"
   ]
  },
  {
   "cell_type": "markdown",
   "metadata": {},
   "source": [
    "## 2. RANDOM FOREST"
   ]
  },
  {
   "cell_type": "code",
   "execution_count": 81,
   "metadata": {},
   "outputs": [],
   "source": [
    "from sklearn.ensemble import RandomForestClassifier\n",
    "rf = RandomForestClassifier(n_estimators=9, max_depth=5, min_samples_leaf=3)\n",
    "\n",
    "cv_scores = cross_validate(rf, x, y, return_train_score=True, cv=skf, \n",
    "                           scoring=['accuracy', 'roc_auc'], n_jobs=-1)"
   ]
  },
  {
   "cell_type": "code",
   "execution_count": 82,
   "metadata": {},
   "outputs": [
    {
     "name": "stdout",
     "output_type": "stream",
     "text": [
      "{'fit_time': array([0.10437584, 0.10437584, 0.10199761, 0.0988915 ]), 'score_time': array([0.01599884, 0.01599884, 0.01599884, 0.01604533]), 'test_accuracy': array([0.86059294, 0.85343105, 0.86090288, 0.86590038]), 'train_accuracy': array([0.86363132, 0.85558023, 0.86125146, 0.86780301]), 'test_roc_auc': array([0.92503405, 0.92541333, 0.92671418, 0.92753109]), 'train_roc_auc': array([0.93034366, 0.92809914, 0.92797118, 0.93237655])}\n"
     ]
    }
   ],
   "source": [
    "print(cv_scores)"
   ]
  },
  {
   "cell_type": "code",
   "execution_count": 83,
   "metadata": {},
   "outputs": [],
   "source": [
    "acc = 0\n",
    "for i in range(4):\n",
    "    acc = acc + cv_scores['test_accuracy'][i]\n",
    "acc = acc/4\n",
    "\n",
    "models.append('Random Forest')\n",
    "accuracies.append(acc)"
   ]
  },
  {
   "cell_type": "markdown",
   "metadata": {},
   "source": [
    "## 3. SVM"
   ]
  },
  {
   "cell_type": "code",
   "execution_count": 84,
   "metadata": {},
   "outputs": [],
   "source": [
    "from sklearn import svm\n",
    "svmc = svm.SVC()\n",
    "\n",
    "cv_scores = cross_validate(svmc, x, y, return_train_score=True, cv=skf, \n",
    "                           scoring=['accuracy', 'roc_auc'], n_jobs=-1)"
   ]
  },
  {
   "cell_type": "code",
   "execution_count": 85,
   "metadata": {},
   "outputs": [
    {
     "name": "stdout",
     "output_type": "stream",
     "text": [
      "{'fit_time': array([12.10346055, 12.27145648, 12.54048371, 12.07632422]), 'score_time': array([13.99681234, 13.55411553, 14.02180362, 13.73006654]), 'test_accuracy': array([0.74533644, 0.74716855, 0.75578877, 0.75179077]), 'train_accuracy': array([0.75158245, 0.75097168, 0.74954195, 0.74981955]), 'test_roc_auc': array([0.81107757, 0.81149654, 0.81251755, 0.808734  ]), 'train_roc_auc': array([0.81122278, 0.81076673, 0.81347637, 0.81533655])}\n"
     ]
    }
   ],
   "source": [
    "print(cv_scores)"
   ]
  },
  {
   "cell_type": "code",
   "execution_count": 86,
   "metadata": {},
   "outputs": [],
   "source": [
    "acc = 0\n",
    "for i in range(4):\n",
    "    acc = acc + cv_scores['test_accuracy'][i]\n",
    "acc = acc/4\n",
    "\n",
    "models.append('SVM')\n",
    "accuracies.append(acc)"
   ]
  },
  {
   "cell_type": "markdown",
   "metadata": {},
   "source": [
    "## 4. XG BOOST"
   ]
  },
  {
   "cell_type": "code",
   "execution_count": 87,
   "metadata": {},
   "outputs": [],
   "source": [
    "from xgboost import XGBClassifier\n",
    "xgb = XGBClassifier(eval_metric='mlogloss', n_estimators=7, max_depth=3, min_samples_leaf=2)\n",
    "\n",
    "cv_scores = cross_validate(xgb, x, y, return_train_score=True, cv=skf, \n",
    "                           scoring=['accuracy', 'roc_auc'], n_jobs=-1)"
   ]
  },
  {
   "cell_type": "code",
   "execution_count": 88,
   "metadata": {},
   "outputs": [
    {
     "name": "stdout",
     "output_type": "stream",
     "text": [
      "{'fit_time': array([1.06348538, 1.06348538, 0.97552967, 1.05516577]), 'score_time': array([0.01581216, 0.01581216, 0.01562881, 0.01581216]), 'test_accuracy': array([0.85443038, 0.85276482, 0.8617358 , 0.84074629]), 'train_accuracy': array([0.85446974, 0.85841199, 0.85303426, 0.84631614]), 'test_roc_auc': array([0.91304829, 0.91263792, 0.91853005, 0.90835619]), 'train_roc_auc': array([0.91495667, 0.91381355, 0.91756029, 0.91423286])}\n"
     ]
    }
   ],
   "source": [
    "print(cv_scores)"
   ]
  },
  {
   "cell_type": "code",
   "execution_count": 89,
   "metadata": {},
   "outputs": [],
   "source": [
    "acc = 0\n",
    "for i in range(4):\n",
    "    acc = acc + cv_scores['test_accuracy'][i]\n",
    "acc = acc/4\n",
    "\n",
    "models.append('XG Boost')\n",
    "accuracies.append(acc)"
   ]
  },
  {
   "cell_type": "markdown",
   "metadata": {},
   "source": [
    "# MODEL COMPARISION"
   ]
  },
  {
   "cell_type": "code",
   "execution_count": 90,
   "metadata": {},
   "outputs": [],
   "source": [
    "df_model = pd.DataFrame(list(zip(models, accuracies)), columns=['model', 'acc'])\n",
    "df_model = df_model.sort_values(by='acc', ascending=False)"
   ]
  },
  {
   "cell_type": "code",
   "execution_count": 91,
   "metadata": {},
   "outputs": [
    {
     "name": "stdout",
     "output_type": "stream",
     "text": [
      "                 model       acc\n",
      "1        Random Forest  0.860207\n",
      "3             XG Boost  0.852419\n",
      "0  Logistic Regression  0.795994\n",
      "2                  SVM  0.750021\n"
     ]
    }
   ],
   "source": [
    "print(df_model)"
   ]
  },
  {
   "cell_type": "code",
   "execution_count": 92,
   "metadata": {},
   "outputs": [
    {
     "data": {
      "image/png": "[encoded data removed]",
      "text/plain": [
       "<Figure size 864x648 with 1 Axes>"
      ]
     },
     "metadata": {},
     "output_type": "display_data"
    }
   ],
   "source": [
    "fig = plt.figure(figsize=(12,9))\n",
    "fig.set_facecolor('white')\n",
    "ax = sns.barplot(data=df_model, x='acc', y='model', palette='Paired')\n",
    "ax.set_title('Model Accuracy', fontsize=20)\n",
    "ax.set_yticklabels(ax.get_yticklabels(), fontsize=18)\n",
    "plt.show()"
   ]
  },
  {
   "cell_type": "markdown",
   "metadata": {},
   "source": [
    "Random Forest has highest accuracy with 86,4%"
   ]
  },
  {
   "cell_type": "markdown",
   "metadata": {},
   "source": [
    "# CONCLUSION"
   ]
  },
  {
   "cell_type": "markdown",
   "metadata": {},
   "source": [
    "we've build simple fraud detection model to detect fraudulent on job posting dataset. [NOTE:] there are few problem that not yet resolved such as fiting csr matrix from vectorized text data that cannot be fit. This notebook will be updated soon. \n",
    "\n",
    "I would also thanks to this notebook that help me to preprocess text data: https://www.kaggle.com/rawaaelghali/real-or-not-nlp-with-disaster-tweets/ "
   ]
  },
  {
   "cell_type": "markdown",
   "metadata": {},
   "source": []
  }
 ],
 "metadata": {
  "interpreter": {
   "hash": "687283a719458cf756b21f8aec4dc49db45b351a63bc5764ed43f4bfefddd902"
  },
  "kernelspec": {
   "display_name": "Python 3.9.7 64-bit",
   "name": "python3"
  },
  "language_info": {
   "codemirror_mode": {
    "name": "ipython",
    "version": 3
   },
   "file_extension": ".py",
   "mimetype": "text/x-python",
   "name": "python",
   "nbconvert_exporter": "python",
   "pygments_lexer": "ipython3",
   "version": "3.9.7"
  },
  "orig_nbformat": 4
 },
 "nbformat": 4,
 "nbformat_minor": 2
}
